{
 "cells": [
  {
   "cell_type": "code",
   "execution_count": 2,
   "metadata": {},
   "outputs": [],
   "source": [
    "# importing tools for later use\n",
    "import matplotlib.pyplot as plt\n",
    "import numpy as np\n",
    "import pandas as pd\n",
    "from scipy import stats"
   ]
  },
  {
   "cell_type": "code",
   "execution_count": 3,
   "metadata": {},
   "outputs": [
    {
     "data": {
      "text/plain": [
       "(array([1.339e+03, 2.679e+03, 2.744e+03, 1.806e+03, 9.250e+02, 3.420e+02,\n",
       "        1.170e+02, 3.300e+01, 1.300e+01, 1.000e+00, 1.000e+00]),\n",
       " array([ 0,  1,  2,  3,  4,  5,  6,  7,  8,  9, 10, 11]),\n",
       " <a list of 11 Patch objects>)"
      ]
     },
     "execution_count": 3,
     "metadata": {},
     "output_type": "execute_result"
    },
    {
     "data": {
      "image/png": "[encoded data removed]",
      "text/plain": [
       "<Figure size 432x288 with 1 Axes>"
      ]
     },
     "metadata": {
      "needs_background": "light"
     },
     "output_type": "display_data"
    }
   ],
   "source": [
    "# A bank found that the average number of cars waiting during the noon hour at a drive-up window \n",
    "# follows a Poisson distribution with a mean of 2 cars. \n",
    "# Make a chart of this distribution and answer these questions concerning the probability of cars \n",
    "# waiting at the drive-up window.\n",
    "\n",
    "# setting n to 10000\n",
    "# this will be used to declare how many random values to make with .rvs\n",
    "n = 10000\n",
    "\n",
    "# creating array with poisson distribution. setting mean to 2.\n",
    "# using rvs to create 10000 random values that fall within this distribution\n",
    "x = stats.poisson(2).rvs(n)\n",
    "\n",
    "# plotting distribution as historgram\n",
    "plt.hist(x, bins=range(0, 12))\n",
    "\n"
   ]
  },
  {
   "cell_type": "code",
   "execution_count": 4,
   "metadata": {},
   "outputs": [
    {
     "data": {
      "text/plain": [
       "0.1353352832366127"
      ]
     },
     "execution_count": 4,
     "metadata": {},
     "output_type": "execute_result"
    }
   ],
   "source": [
    "# What is the probability that no cars drive up in the noon hour? (Theoretical)\n",
    "\n",
    "# creating poisson distribution with mean of 2\n",
    "# using pmf to find probability that exactly 0 cars drive up\n",
    "stats.poisson(2).pmf(0)\n"
   ]
  },
  {
   "cell_type": "code",
   "execution_count": 5,
   "metadata": {},
   "outputs": [
    {
     "data": {
      "text/plain": [
       "0.13646"
      ]
     },
     "execution_count": 5,
     "metadata": {},
     "output_type": "execute_result"
    }
   ],
   "source": [
    "# What is the probability that no cars drive up in the noon hour? (Simulation)\n",
    "# drawing samples from poisson distribution\n",
    "# dimensions are 100,000 row, 1 column (ie. 100,000 simulations of one noon hour each)\n",
    "cars = np.round(np.random.poisson(2, size = (100_000, 1)))\n",
    "\n",
    "# checking average of how often 0 cars arrive in a simulation\n",
    "# matches closely enough with our theoretical answer \n",
    "(cars == 0).mean()"
   ]
  },
  {
   "cell_type": "code",
   "execution_count": 6,
   "metadata": {},
   "outputs": [
    {
     "data": {
      "text/plain": [
       "0.32332358381693654"
      ]
     },
     "execution_count": 6,
     "metadata": {},
     "output_type": "execute_result"
    }
   ],
   "source": [
    "# What is the probability that 3 or more cars come through the drive through? (Theoretical)\n",
    "\n",
    "# creating poisson distribution with mean of 2\n",
    "# using sf to find probability that 3 or more cars appear\n",
    "# we specify 2 here because sf shows probability of any values greater than\n",
    "# the specified appearing\n",
    "(stats.poisson(2).sf(2))"
   ]
  },
  {
   "cell_type": "code",
   "execution_count": 7,
   "metadata": {},
   "outputs": [
    {
     "data": {
      "text/plain": [
       "0.32457"
      ]
     },
     "execution_count": 7,
     "metadata": {},
     "output_type": "execute_result"
    }
   ],
   "source": [
    "# What is the probability that 3 or more cars come through the drive through? (Simulation)\n",
    "# drawing samples from poisson distribution\n",
    "# dimensions are 100,000 row, 1 column (ie. 100,000 simulations of one noon hour each)\n",
    "cars = np.round(np.random.poisson(2, size = (100_000, 1)))\n",
    "\n",
    "# checking average of how often 3 or more cars arrive in a simulation\n",
    "# matches closely enough with our theoretical answer \n",
    "(cars >= 3).mean()"
   ]
  },
  {
   "cell_type": "code",
   "execution_count": 8,
   "metadata": {},
   "outputs": [
    {
     "data": {
      "text/plain": [
       "0.8646647167633873"
      ]
     },
     "execution_count": 8,
     "metadata": {},
     "output_type": "execute_result"
    }
   ],
   "source": [
    "# How likely is it that the drive through gets at least 1 car? (Theoretical)\n",
    "\n",
    "# creating poisson distribution with mean of 2\n",
    "# using sf to find probability that at least 1 car appears\n",
    "# we specify 0 here because sf shows probability of any values greater than\n",
    "# the specified appearing. Since we need to know probability of at least 1 appearing, we\n",
    "# set this to 0\n",
    "stats.poisson(2).sf(0)\n"
   ]
  },
  {
   "cell_type": "code",
   "execution_count": 9,
   "metadata": {},
   "outputs": [
    {
     "data": {
      "text/plain": [
       "0.86274"
      ]
     },
     "execution_count": 9,
     "metadata": {},
     "output_type": "execute_result"
    }
   ],
   "source": [
    "# How likely is it that the drive through gets at least 1 car? (Simulation)\n",
    "\n",
    "# drawing samples from poisson distribution\n",
    "# dimensions are 100,000 row, 1 column (ie. 100,000 simulations of one noon hour each)\n",
    "cars = np.round(np.random.poisson(2, size = (100_000, 1)))\n",
    "\n",
    "# checking average of how often 0 cars arrive in a simulation\n",
    "# matches closely enough with our theoretical answer \n",
    "(cars > 0).mean()"
   ]
  },
  {
   "cell_type": "code",
   "execution_count": 10,
   "metadata": {},
   "outputs": [],
   "source": [
    "# Grades of State University graduates are normally distributed with a mean of 3.0 \n",
    "# and a standard deviation of .3. Calculate the following:"
   ]
  },
  {
   "cell_type": "code",
   "execution_count": 11,
   "metadata": {
    "scrolled": true
   },
   "outputs": [
    {
     "data": {
      "text/plain": [
       "3.4934560880854417"
      ]
     },
     "execution_count": 11,
     "metadata": {},
     "output_type": "execute_result"
    }
   ],
   "source": [
    "# What grade point average is required to be in the top 5% of the graduating class? (Theoretical)\n",
    "\n",
    "# creating variable that holds samples from normal distribution with mean of 3 and sdev of .3\n",
    "gpa = stats.norm(3, .3)\n",
    "\n",
    "# using isf to find gpa required to be in the top 5% of class\n",
    "# isf finds the break value for the percent specified and higher\n",
    "gpa.isf(.05)\n"
   ]
  },
  {
   "cell_type": "code",
   "execution_count": 12,
   "metadata": {},
   "outputs": [
    {
     "data": {
      "text/plain": [
       "3.4927920785837396"
      ]
     },
     "execution_count": 12,
     "metadata": {},
     "output_type": "execute_result"
    }
   ],
   "source": [
    "# What grade point average is required to be in the top 5% of the graduating class? (Simulation)\n",
    "\n",
    "# creating variable that holds samples from normal distribution with mean of 3 and sdev of .3\n",
    "# 100,000 rows and 1 sample in each row, each value is a gpa\n",
    "gpas = np.random.normal(3, .3, size=(100_000, 1))\n",
    "\n",
    "# using percentile to see the break value for the 95th percentile, ie. the top 5 %\n",
    "# matches closely to our theoretical answer\n",
    "np.percentile(gpas, 95)"
   ]
  },
  {
   "cell_type": "code",
   "execution_count": 13,
   "metadata": {},
   "outputs": [
    {
     "data": {
      "text/plain": [
       "2.689069983151863"
      ]
     },
     "execution_count": 13,
     "metadata": {},
     "output_type": "execute_result"
    }
   ],
   "source": [
    "# What GPA constitutes the bottom 15% of the class? (Theoretical)\n",
    "\n",
    "# creating variable that holds normal distribution with mean of 3 and sdev of .3\n",
    "gpa = stats.norm(3, .3)\n",
    "\n",
    "# using ppf to find gpa required to be in the bottom 15% of class\n",
    "# ppf finds the break value for the percent specified and lower\n",
    "gpa.ppf(.15)"
   ]
  },
  {
   "cell_type": "code",
   "execution_count": 14,
   "metadata": {},
   "outputs": [
    {
     "data": {
      "text/plain": [
       "2.687537939744228"
      ]
     },
     "execution_count": 14,
     "metadata": {},
     "output_type": "execute_result"
    }
   ],
   "source": [
    "# What GPA constitutes the bottom 15% of the class? (Simulation)\n",
    "\n",
    "# creating variable that holds samples from normal distribution with mean of 3 and sdev of .3\n",
    "# 100,000 rows and 1 sample in each row, each value is a gpa\n",
    "gpas = np.random.normal(3, .3, size=(100_000, 1))\n",
    "\n",
    "# using percentile to see the break value for the 15th percentile, ie. the bottom 15%\n",
    "# matches closely to our theoretical answer\n",
    "np.percentile(gpas, 15)"
   ]
  },
  {
   "cell_type": "code",
   "execution_count": 15,
   "metadata": {},
   "outputs": [
    {
     "name": "stdout",
     "output_type": "stream",
     "text": [
      "The range of the third decile is 2.7475136299281258 to 2.842679846187588\n"
     ]
    }
   ],
   "source": [
    "# An eccentric alumnus left scholarship money for students in the third decile from the bottom of their class. \n",
    "# Determine the range of the third decile. (Theoretical)\n",
    "\n",
    "# creating variable that holds normal distribution with mean of 3 and sdev of .3\n",
    "gpa = stats.norm(3, .3)\n",
    "\n",
    "# using ppf to find the highest gpa that is in the bottom 20% of class\n",
    "# ppf finds the break value for the percent specified and lower\n",
    "values_under_third_decile = gpa.ppf(.2)\n",
    "\n",
    "# using ppf to find the highest gpa that is in the bottom 30% of class\n",
    "# ppf finds the break value for the percent specified and lower\n",
    "values_above_third_decile = gpa.ppf(.3)\n",
    "\n",
    "# the range of the third decile from the bottom of the class is between these values\n",
    "print(f'The range of the third decile is {values_under_third_decile} to {values_above_third_decile}')\n"
   ]
  },
  {
   "cell_type": "code",
   "execution_count": 16,
   "metadata": {},
   "outputs": [
    {
     "name": "stdout",
     "output_type": "stream",
     "text": [
      "The range of the third decile is 2.7469309038690333 and 2.8424720376637174\n"
     ]
    }
   ],
   "source": [
    "# An eccentric alumnus left scholarship money for students in the third decile from the bottom of their class. \n",
    "# Determine the range of the third decile. (Simulation)\n",
    "\n",
    "# creating variable that holds samples from normal distribution with mean of 3 and sdev of .3\n",
    "# 100,000 rows and 1 sample in each row, each value is a gpa\n",
    "gpas = np.random.normal(3, .3, size = (100_000))\n",
    "\n",
    "# using percentile to find the 20 and 30 percentile values\n",
    "# values match closely with our theoretical ones\n",
    "thirty_percentile = np.quantile(gpas, .30)\n",
    "twenty_percentile = np.percentile(gpas, 20)\n",
    "\n",
    "# print results\n",
    "print(f'The range of the third decile is {twenty_percentile} and {thirty_percentile}')\n"
   ]
  },
  {
   "cell_type": "code",
   "execution_count": 17,
   "metadata": {},
   "outputs": [],
   "source": [
    "# Would a student with a 2.8 grade point average qualify for this scholarship?\n",
    "\n",
    "# Yes bc they fall within the range of the third decile."
   ]
  },
  {
   "cell_type": "code",
   "execution_count": 18,
   "metadata": {},
   "outputs": [
    {
     "data": {
      "text/plain": [
       "0.9522096477271853"
      ]
     },
     "execution_count": 18,
     "metadata": {},
     "output_type": "execute_result"
    }
   ],
   "source": [
    "# If I have a GPA of 3.5, what percentile am I in? (Theoretical)\n",
    "\n",
    "# creating variable that holds normal distribution with mean of 3 and sdev of .3\n",
    "gpa = stats.norm(3, .3)\n",
    "\n",
    "# using cdf to find the percentile for a 3.5 gpa\n",
    "# cdf lets you specify a value and then provides the probability that a random variable takes on a value\n",
    "# less than or equal to the given point\n",
    "gpa.cdf(3.5)"
   ]
  },
  {
   "cell_type": "code",
   "execution_count": 19,
   "metadata": {},
   "outputs": [
    {
     "data": {
      "text/plain": [
       "0.95122"
      ]
     },
     "execution_count": 19,
     "metadata": {},
     "output_type": "execute_result"
    }
   ],
   "source": [
    "# If I have a GPA of 3.5, what percentile am I in? (Simulation)\n",
    "\n",
    "# creating variable that holds samples from normal distribution with mean of 3 and sdev of .3\n",
    "# 100,000 rows and 1 sample in each row, each value is a gpa\n",
    "gpas = np.random.normal(3, .3, size = (100_000))\n",
    "\n",
    "# creating boolean mask that holds true for any values in gpas the is equal to or greater than 3.5\n",
    "# using mean to find the percentage of values that meet this criteria (ie. the ones that are true)\n",
    "# subtracting this percent from 1 to show percentile\n",
    "# answer is very close to theoretical\n",
    "1 - (gpas >= 3.5).mean()\n"
   ]
  },
  {
   "cell_type": "code",
   "execution_count": 20,
   "metadata": {},
   "outputs": [
    {
     "data": {
      "text/plain": [
       "0.1397582363130086"
      ]
     },
     "execution_count": 20,
     "metadata": {},
     "output_type": "execute_result"
    }
   ],
   "source": [
    "# A marketing website has an average click-through rate of 2%. \n",
    "# One day they observe 4326 visitors and 97 click-throughs. \n",
    "# How likely is it that this many people or more click through? (Theoretical)\n",
    "\n",
    "# using binom distribution because we know how many successes we had after a certain amount of trials\n",
    "# using sf to determine probability of getting 97 or more click throughs\n",
    "# we use 96 as the argument since sf shows probability of any value greater than the provided one \n",
    "stats.binom(4326, .02).sf(96)"
   ]
  },
  {
   "cell_type": "code",
   "execution_count": 21,
   "metadata": {},
   "outputs": [
    {
     "data": {
      "text/plain": [
       "0.1409"
      ]
     },
     "execution_count": 21,
     "metadata": {},
     "output_type": "execute_result"
    }
   ],
   "source": [
    "# A marketing website has an average click-through rate of 2%. \n",
    "# One day they observe 4326 visitors and 97 click-throughs. \n",
    "# How likely is it that this many people or more click through? (Simulation)\n",
    "\n",
    "# setting number of trials to 10000\n",
    "# setting number of visitors per trial to 4326\n",
    "trials = rows = 10000\n",
    "visitors_per_trial = cols = 4326\n",
    "\n",
    "# 0 is a fail, 1 is a success (ie. 0 is no click through, 1 is a clickthrough)\n",
    "visits = np.random.choice([0, 1], size = (trials, visitors_per_trial), p = [.98, .02])\n",
    "\n",
    "# converting visits array to DataFrame\n",
    "visits_df = pd.DataFrame(visits)\n",
    "\n",
    "# summing each row of 0s and 1s\n",
    "# creating boolean mask that holds true for any row where there were at least 97 clickthroughs (ie. row sum >= 97)\n",
    "# finding average amount of simulations that met this criterian\n",
    "# answer very closely matches theoretical\n",
    "(visits_df.sum(axis = 1) >= 97).mean()\n",
    "\n"
   ]
  },
  {
   "cell_type": "code",
   "execution_count": 22,
   "metadata": {
    "scrolled": true
   },
   "outputs": [
    {
     "data": {
      "text/plain": [
       "0.4528433576092388"
      ]
     },
     "execution_count": 22,
     "metadata": {},
     "output_type": "execute_result"
    }
   ],
   "source": [
    "# You are working on some statistics homework consisting of 100 questions (Theoretical)\n",
    "# where all of the answers are a probability rounded to the hundreths place. \n",
    "# Looking to save time, you put down random probabilities as the answer to each question.\n",
    "# What is the probability that at least one of your first 60 answers is correct?\n",
    "\n",
    "# using binom distribution because we know how many successes we had after a certain amount of trials\n",
    "# using sf to determine probability of getting at least one answer correct\n",
    "# we set the chance of success as 1/100 since there are 100 possible answers to any question ie. (0.01 - 1.00) \n",
    "# and only one right answer. we specify 60 as the number of trials since we're concerned with getting one right in the first 60\n",
    "# we use 0 as the argument since sf shows probability of any value greater than the provided one \n",
    "# and we need to know the probability of getting at least one right\n",
    "stats.binom(60, 1/100).sf(0)"
   ]
  },
  {
   "cell_type": "code",
   "execution_count": 33,
   "metadata": {},
   "outputs": [
    {
     "data": {
      "text/plain": [
       "0.4543"
      ]
     },
     "execution_count": 33,
     "metadata": {},
     "output_type": "execute_result"
    }
   ],
   "source": [
    "# You are working on some statistics homework consisting of 100 questions (Simulation)\n",
    "# where all of the answers are a probability rounded to the hundreths place. \n",
    "# Looking to save time, you put down random probabilities as the answer to each question.\n",
    "# What is the probability that at least one of your first 60 answers is correct?\n",
    "\n",
    "# setting number of trials to 10000\n",
    "# setting number of questions answered to 60\n",
    "trials = rows = 10000\n",
    "questions = cols = 60\n",
    "\n",
    "# 0 is a fail, 1 is a success (ie. 0 is answer is wrong, 1 is answer is right)\n",
    "answers = np.random.choice([0, 1], size = (trials, questions), p = [.99, .01])\n",
    "\n",
    "# converting visits array to DataFrame\n",
    "answers_df = pd.DataFrame(answers)\n",
    "\n",
    "# summing each row of 0s and 1s\n",
    "# creating boolean mask that holds true for any row where there were was at least 1 right answer (ie. row sum >= 1)\n",
    "# finding average amount of simulations that met this criterian\n",
    "# answer very closely matches theoretical\n",
    "(answers_df.sum(axis = 1) >= 1).mean()"
   ]
  },
  {
   "cell_type": "code",
   "execution_count": 24,
   "metadata": {},
   "outputs": [
    {
     "data": {
      "text/plain": [
       "0.8342199288437355"
      ]
     },
     "execution_count": 24,
     "metadata": {},
     "output_type": "execute_result"
    }
   ],
   "source": [
    "# The codeup staff tends to get upset when the student break area is not cleaned up. (Theoretical)\n",
    "# Suppose that there's a 3% chance that any one student cleans the break area when they visit it, \n",
    "# and, on any given day, about 90% of the 3 active cohorts of 22 students visit the break area. \n",
    "# How likely is it that the break area gets cleaned up each day? \n",
    "\n",
    "# using binom since we have a set number of trials and we know our probability of success\n",
    "# using sf(0) which specifies we want to know the probability that we get more than 0 students to clean up\n",
    "stats.binom(59, .03).sf(0)\n"
   ]
  },
  {
   "cell_type": "code",
   "execution_count": 25,
   "metadata": {},
   "outputs": [
    {
     "data": {
      "text/plain": [
       "0.828"
      ]
     },
     "execution_count": 25,
     "metadata": {},
     "output_type": "execute_result"
    }
   ],
   "source": [
    "# The codeup staff tends to get upset when the student break area is not cleaned up. (Simulation)\n",
    "# Suppose that there's a 3% chance that any one student cleans the break area when they visit it, \n",
    "# and, on any given day, about 90% of the 3 active cohorts of 22 students visit the break area. \n",
    "# How likely is it that the break area gets cleaned up each day? \n",
    "\n",
    "# setting number of trials to 10000\n",
    "# setting number of students in breakroom to 59\n",
    "trials = rows = 10000\n",
    "students = cols = 59\n",
    "\n",
    "# creating array of 0s and 1s where each value represents whether or not a student cleaned the breakroom\n",
    "# 0 = did not clean, 1 = cleaned\n",
    "# 59 students per simulation, 10000 simulations\n",
    "breakroom = np.random.choice([0 , 1], size = (trials, students), p = [.97, .03])\n",
    "\n",
    "# converting array to dataframe\n",
    "breakroom_df = pd.DataFrame(breakroom)\n",
    "\n",
    "# summing the values in each row of dataframe\n",
    "# creating boolean mask that holds true for any row with a summed value greater than 0 (ie. at least one student cleaned)\n",
    "# finding percent of simulations that met criteria\n",
    "# answer closely matches theoretical answer\n",
    "((breakroom_df.sum(axis = 1)) > 0).mean()\n",
    "\n"
   ]
  },
  {
   "cell_type": "code",
   "execution_count": 26,
   "metadata": {},
   "outputs": [
    {
     "data": {
      "text/plain": [
       "0.02748303199257618"
      ]
     },
     "execution_count": 26,
     "metadata": {},
     "output_type": "execute_result"
    }
   ],
   "source": [
    "# How likely is it that it goes two days without getting cleaned up? (Theoretical)\n",
    "\n",
    "# using binom since we have a set number of trials and we know our probability of success\n",
    "# using sf(0) which specifies we want to know the probability that we get more than 0 students to clean up\n",
    "# using 118 as trials number because this is the number of trials that will take place over two days\n",
    "# the resulting percent is the chance that over the course of two days, at least one student cleans\n",
    "# we then subtract this from one to reveal the chance the over two days, no one cleans \n",
    "\n",
    "1 - (stats.binom(118, .03).sf(0))\n"
   ]
  },
  {
   "cell_type": "code",
   "execution_count": 27,
   "metadata": {},
   "outputs": [
    {
     "data": {
      "text/plain": [
       "0.027"
      ]
     },
     "execution_count": 27,
     "metadata": {},
     "output_type": "execute_result"
    }
   ],
   "source": [
    "# How likely is it that it goes two days without getting cleaned up? (Simulation)\n",
    "\n",
    "# setting number of trials to 10000\n",
    "# setting number of students in breakroom to 118, double the students from last time to represent 2 days worth of students\n",
    "trials = rows = 10000\n",
    "students = cols = 118\n",
    "\n",
    "# creating array of 0s and 1s where each value represents whether or not a student cleaned the breakroom\n",
    "# 0 = did not clean, 1 = cleaned\n",
    "# 118 students per simulation, 10000 simulations\n",
    "breakroom = np.random.choice([0 , 1], size = (trials, students), p = [.97, .03])\n",
    "\n",
    "# converting array to dataframe\n",
    "breakroom_df = pd.DataFrame(breakroom)\n",
    "\n",
    "# summing the values in each row of dataframe\n",
    "# creating boolean mask that holds true for any row with a summed value of 0 (ie. no student cleaned)\n",
    "# finding percent of simulations that met criteria\n",
    "# answer closely matches theoretical answer\n",
    "((breakroom_df.sum(axis = 1)) == 0).mean()\n"
   ]
  },
  {
   "cell_type": "code",
   "execution_count": 28,
   "metadata": {},
   "outputs": [
    {
     "data": {
      "text/plain": [
       "0.00012521651388086585"
      ]
     },
     "execution_count": 28,
     "metadata": {},
     "output_type": "execute_result"
    }
   ],
   "source": [
    "# All week? (Theoretical)\n",
    "\n",
    "# using binom since we have a set number of trials and we know our probability of success\n",
    "# using sf(0) which specifies we want to know the probability that we get more than 0 students to clean up\n",
    "# using 413 as trials number because this is the number of trials that will take place over 7 days\n",
    "# the resulting percent is the chance that over the course of 7 days, at least one student cleans\n",
    "# we then subtract this from one to reveal the chance the over 7 days, no one cleans \n",
    "1 - (stats.binom(295, .03).sf(0))"
   ]
  },
  {
   "cell_type": "code",
   "execution_count": 29,
   "metadata": {},
   "outputs": [
    {
     "data": {
      "text/plain": [
       "0.0"
      ]
     },
     "execution_count": 29,
     "metadata": {},
     "output_type": "execute_result"
    }
   ],
   "source": [
    "# All week? (Simulation)\n",
    "\n",
    "# setting number of trials to 10000\n",
    "# setting number of students in breakroom to 295, 5x the students from the original question to represent 5 days worth of students\n",
    "trials = rows = 10000\n",
    "students = cols = 295\n",
    "\n",
    "# creating array of 0s and 1s where each value represents whether or not a student cleaned the breakroom\n",
    "# 0 = did not clean, 1 = cleaned\n",
    "# 295 students per simulation, 10000 simulations\n",
    "breakroom = np.random.choice([0 , 1], size = (trials, students), p = [.97, .03])\n",
    "\n",
    "# converting array to dataframe\n",
    "breakroom_df = pd.DataFrame(breakroom)\n",
    "\n",
    "# summing the values in each row of dataframe\n",
    "# creating boolean mask that holds true for any row with a summed value of 0 (ie. no student cleaned)\n",
    "# finding percent of simulations that met criteria\n",
    "# answer closely matches theoretical answer\n",
    "((breakroom_df.sum(axis = 1)) == 0).mean()\n"
   ]
  },
  {
   "cell_type": "code",
   "execution_count": 30,
   "metadata": {},
   "outputs": [
    {
     "data": {
      "text/plain": [
       "<scipy.stats._distn_infrastructure.rv_frozen at 0x7f83f7f39c50>"
      ]
     },
     "execution_count": 30,
     "metadata": {},
     "output_type": "execute_result"
    }
   ],
   "source": [
    "# You want to get lunch at La Panaderia, but notice that the line is usually very long at lunchtime. \n",
    "# After several weeks of careful observation, you notice that the average number of people in line \n",
    "# when your lunch break starts is normally distributed with a mean of 15 and standard deviation of 3. \n",
    "# If it takes 2 minutes for each person to order, and 10 minutes from ordering to getting your food, \n",
    "# what is the likelihood that you have at least 15 minutes left to eat your food before you have to go back to class? \n",
    "# Assume you have one hour for lunch, and ignore travel time to and from La Panaderia.\n",
    "\n",
    "stats.norm(15,3) \n"
   ]
  },
  {
   "cell_type": "code",
   "execution_count": 31,
   "metadata": {},
   "outputs": [
    {
     "ename": "NameError",
     "evalue": "name 'empurl' is not defined",
     "output_type": "error",
     "traceback": [
      "\u001b[0;31m---------------------------------------------------------------------------\u001b[0m",
      "\u001b[0;31mNameError\u001b[0m                                 Traceback (most recent call last)",
      "\u001b[0;32m<ipython-input-31-37112a790342>\u001b[0m in \u001b[0;36m<module>\u001b[0;34m\u001b[0m\n\u001b[1;32m      9\u001b[0m \u001b[0;34m\u001b[0m\u001b[0m\n\u001b[1;32m     10\u001b[0m \u001b[0;31m# using read_sql to run query and url to connect to database\u001b[0m\u001b[0;34m\u001b[0m\u001b[0;34m\u001b[0m\u001b[0;34m\u001b[0m\u001b[0m\n\u001b[0;32m---> 11\u001b[0;31m \u001b[0memployees\u001b[0m \u001b[0;34m=\u001b[0m \u001b[0mpd\u001b[0m\u001b[0;34m.\u001b[0m\u001b[0mread_sql\u001b[0m\u001b[0;34m(\u001b[0m\u001b[0;34m'SELECT * FROM employees'\u001b[0m\u001b[0;34m,\u001b[0m \u001b[0mempurl\u001b[0m\u001b[0;34m)\u001b[0m\u001b[0;34m\u001b[0m\u001b[0;34m\u001b[0m\u001b[0m\n\u001b[0m\u001b[1;32m     12\u001b[0m \u001b[0;34m\u001b[0m\u001b[0m\n\u001b[1;32m     13\u001b[0m \u001b[0;31m# converting to Dataframe\u001b[0m\u001b[0;34m\u001b[0m\u001b[0;34m\u001b[0m\u001b[0;34m\u001b[0m\u001b[0m\n",
      "\u001b[0;31mNameError\u001b[0m: name 'empurl' is not defined"
     ]
    }
   ],
   "source": [
    "# Connect to the employees database \n",
    "\n",
    "# importing host, username, and password from external file\n",
    "from env import host, username, password\n",
    "# setting variable equal to string that will combine the host, username, password, and db for our URL\n",
    "url = (f'mysql+pymysql://{username}:{password}@{host}/employees')\n",
    "\n",
    "# PART 1 - Connecting to employees database\n",
    "\n",
    "# using read_sql to run query and url to connect to database\n",
    "employees = pd.read_sql('SELECT * FROM employees', empurl)\n",
    "\n",
    "# converting to Dataframe\n",
    "emps = pd.DataFrame(employees)\n",
    "\n",
    "# displaying data frame\n",
    "emps"
   ]
  },
  {
   "cell_type": "code",
   "execution_count": null,
   "metadata": {},
   "outputs": [],
   "source": [
    "# Find the average salary of current employees\n",
    "\n",
    "# PART 2 - Connecting to salaries table\n",
    "\n",
    "# using read_sql to run query and url to connect to database\n",
    "# writing sql code that will filter out any old salaries\n",
    "salaries = pd.read_sql('SELECT * FROM salaries where to_date > curdate()', url)\n",
    "\n",
    "# converting to dataframe\n",
    "sals = pd.DataFrame(salaries)\n",
    "\n",
    "# displaying data frame\n",
    "sals"
   ]
  },
  {
   "cell_type": "code",
   "execution_count": null,
   "metadata": {},
   "outputs": [],
   "source": [
    "# Find the average salary of current employees\n",
    "\n",
    "# PART 3 - Merging databases \n",
    "\n",
    "# merging dataframes on emp_no to creat one dataframe\n",
    "empsals = pd.merge(emps, sals, left_on = 'emp_no', right_on='emp_no')\n",
    "\n",
    "# displaying data frame\n",
    "empsals"
   ]
  },
  {
   "cell_type": "code",
   "execution_count": null,
   "metadata": {
    "scrolled": true
   },
   "outputs": [],
   "source": [
    "# Find the average salary of current employees\n",
    "\n",
    "# using mean to find average of salary column in empsals data frame\n",
    "avg_sal = empsals.salary.mean()\n",
    "\n",
    "# displaying results\n",
    "avg_sal"
   ]
  },
  {
   "cell_type": "code",
   "execution_count": null,
   "metadata": {},
   "outputs": [],
   "source": [
    "# Along with the standard deviation. \n",
    "\n",
    "sdev_sal = empsals.salary.std()\n",
    "\n",
    "# displaying results\n",
    "sdev_sal"
   ]
  },
  {
   "cell_type": "code",
   "execution_count": null,
   "metadata": {},
   "outputs": [],
   "source": [
    "# Model the distribution of employees salaries with a normal distribution and answer the following questions:\n",
    "\n",
    "# setting x range adequete to show normal distribution shape\n",
    "x = np.linspace(1, 150000)\n",
    "# setting y as normal distribution using sdev and mean\n",
    "y = stats.norm(avg_sal, sdev_sal).pdf(x)\n",
    "\n",
    "# plotting values\n",
    "plt.plot(x, y)"
   ]
  },
  {
   "cell_type": "code",
   "execution_count": null,
   "metadata": {},
   "outputs": [],
   "source": [
    "# What percent of employees earn less than 60,000?\n",
    "\n",
    "# using cdf to find percent of employees whose salary is equal to or less than 59999.99 ie, any amount below 60k\n",
    "stats.norm(avg_sal, sdev_sal).cdf(59999.99)\n",
    "\n",
    "# verified percent using actual data and found my theoretical value was off by 3%\n",
    "# len(empsals[empsals.salary <= 60000]) / len(empsals)"
   ]
  },
  {
   "cell_type": "code",
   "execution_count": null,
   "metadata": {},
   "outputs": [],
   "source": [
    "# What percent of employees earn more than 95,000?\n",
    "\n",
    "# using sf to find probability that random value is greater than 95k\n",
    "stats.norm(avg_sal, sdev_sal).sf(95000)\n",
    "\n",
    "# verified percent using actual data and was off by 1%\n",
    "# len(empsals[empsals.salary > 95000]) / len(empsals) "
   ]
  },
  {
   "cell_type": "code",
   "execution_count": null,
   "metadata": {},
   "outputs": [],
   "source": [
    "# What percent of employees earn between 65,000 and 80,000?\n",
    "\n",
    "# using cdf to find probability that a random value was less than or equal to 64999.99 ie. the amount just under 65k\n",
    "under_sixtyfive = stats.norm(avg_sal, sdev_sal).cdf(64999.99)\n",
    "# using sf the find probability that a random value is greater than 80k\n",
    "over_eigthy = stats.norm(avg_sal, sdev_sal).sf(80000)\n",
    "\n",
    "# subtracting both of these probabilities from 1 to determine theoretical probability of a random number not being\n",
    "# within either of their ranges, ie. between 65k and 80k\n",
    "percent_between_values = 1 - under_sixtyfive - over_eigthy\n",
    "\n",
    "# displaying results\n",
    "percent_between_values \n",
    "\n",
    "# verified percent using actual data and was 1% off\n",
    "# over80 = len(empsals[(empsals.salary > 80000)]) \n",
    "# under65 = len(empsals[empsals.salary < 65000])\n",
    "# 1 - ((over80 + under65) / len(empsals))"
   ]
  },
  {
   "cell_type": "code",
   "execution_count": null,
   "metadata": {},
   "outputs": [],
   "source": [
    "# What do the top 5% of employees make?\n",
    "\n",
    "# using isf to find the break point for values in the top 5% \n",
    "stats.norm(avg_sal, sdev_sal).isf(.05)"
   ]
  },
  {
   "cell_type": "code",
   "execution_count": null,
   "metadata": {},
   "outputs": [],
   "source": []
  },
  {
   "cell_type": "code",
   "execution_count": null,
   "metadata": {},
   "outputs": [],
   "source": []
  },
  {
   "cell_type": "code",
   "execution_count": null,
   "metadata": {},
   "outputs": [],
   "source": []
  }
 ],
 "metadata": {
  "kernelspec": {
   "display_name": "Python 3",
   "language": "python",
   "name": "python3"
  },
  "language_info": {
   "codemirror_mode": {
    "name": "ipython",
    "version": 3
   },
   "file_extension": ".py",
   "mimetype": "text/x-python",
   "name": "python",
   "nbconvert_exporter": "python",
   "pygments_lexer": "ipython3",
   "version": "3.7.6"
  }
 },
 "nbformat": 4,
 "nbformat_minor": 4
}
