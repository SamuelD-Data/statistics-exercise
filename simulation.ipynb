{
 "cells": [
  {
   "cell_type": "code",
   "execution_count": 2,
   "metadata": {},
   "outputs": [],
   "source": [
    "# importing numpy and pandas for later use\n",
    "import numpy as np\n",
    "import pandas as pd"
   ]
  },
  {
   "cell_type": "code",
   "execution_count": 3,
   "metadata": {},
   "outputs": [
    {
     "name": "stdout",
     "output_type": "stream",
     "text": [
      "The chance of rolling doubles is 0.1639\n"
     ]
    }
   ],
   "source": [
    "# How likely is it that you roll doubles when rolling two dice?\n",
    "\n",
    "# setting number of simulations and array rows to 10k\n",
    "# setting number of dice rolls per simulation and # of array columns to 2\n",
    "n_sims = nrows = 10000\n",
    "n_dice = ncols = 2\n",
    "\n",
    "# creating numpy array that holds 10k rows and 2 columns\n",
    "# each array will hold 2 numbers that are randomnly chosen from the numbers 1 - 6\n",
    "rolls = np.random.choice([1, 2, 3, 4, 5, 6], n_sims * n_dice).reshape(nrows, ncols)\n",
    "\n",
    "# converting array to data frame\n",
    "# using lambda to check which arrays are composed of two numbers that match\n",
    "# if the digits in an array match, True will populate for it in the boolean mask, otherwise false\n",
    "# using mean to find the average amount of Trues in the mask ie. the answer\n",
    "doubles = (pd.DataFrame(rolls).apply(lambda x: x[0] == x[1], axis=1).mean())\n",
    "\n",
    "# displaying results\n",
    "print(f'The chance of rolling doubles is {doubles}')\n"
   ]
  },
  {
   "cell_type": "code",
   "execution_count": 13,
   "metadata": {},
   "outputs": [
    {
     "name": "stdout",
     "output_type": "stream",
     "text": [
      "The probability of getting exactly 3 heads is 0.2182\n"
     ]
    }
   ],
   "source": [
    "# If you flip 8 coins, what is the probability of getting exactly 3 heads? \n",
    "\n",
    "# setting number of simulations and eventual data frame rows to 10k\n",
    "# setting number of flips per simulation and # of array columns to 8\n",
    "n_sims = nrows = 10000\n",
    "n_coins = ncols = 8\n",
    "\n",
    "# creating numpy array that holds 10k rows and 8 columns\n",
    "# each row holds 0s and 1s, 0 = tails, 1 = heads\n",
    "flips = np.random.choice([0 , 1], n_sims * n_coins).reshape(nrows, ncols)\n",
    "\n",
    "# converting array to data frame\n",
    "flips_df = pd.DataFrame(flips)\n",
    "\n",
    "# summing the number of heads in each simulation\n",
    "flips_summed = flips_df.sum(axis = 1)\n",
    "\n",
    "# creating boolean mask that holds true for every value of exactly 3  (ie. a simulation with 3 heads)\n",
    "# finding mean of the sims that met this criterion\n",
    "answer = (flips_summed == 3).mean()\n",
    "\n",
    "# displaying results\n",
    "print(f'The probability of getting exactly 3 heads is {answer}')\n",
    "\n"
   ]
  },
  {
   "cell_type": "code",
   "execution_count": 14,
   "metadata": {},
   "outputs": [
    {
     "name": "stdout",
     "output_type": "stream",
     "text": [
      "The probability of getting more than 3 heads is 0.6279\n"
     ]
    }
   ],
   "source": [
    "# What is the probability of getting more than 3 heads?\n",
    "\n",
    "# setting number of simulations and eventual data frame rows to 10k\n",
    "# setting number of flips per simulation and # of array columns to 8\n",
    "n_sims = nrows = 10000\n",
    "n_coins = ncols = 8\n",
    "\n",
    "# creating numpy array that holds 10k rows and 8 columns\n",
    "# each row holds 0s and 1s, 0 = tails, 1 = heads\n",
    "flips = np.random.choice([0 , 1], n_sims * n_coins).reshape(nrows, ncols)\n",
    "\n",
    "# converting array to data frame\n",
    "flips_df = pd.DataFrame(flips)\n",
    "\n",
    "# summing the number of heads in each simulation\n",
    "flips_summed = flips_df.sum(axis = 1)\n",
    "\n",
    "# creating boolean mask that holds true for every value greater than 3 (ie. a simulation with more than 3 heads)\n",
    "# finding mean of the sims that met this criterion\n",
    "answer = (flips_summed > 3).mean()\n",
    "\n",
    "# displaying results\n",
    "print(f'The probability of getting more than 3 heads is {answer}')\n",
    "\n"
   ]
  },
  {
   "cell_type": "code",
   "execution_count": 25,
   "metadata": {},
   "outputs": [
    {
     "data": {
      "text/plain": [
       "0.0613"
      ]
     },
     "execution_count": 25,
     "metadata": {},
     "output_type": "execute_result"
    }
   ],
   "source": [
    "# There are approximitely 3 web development cohorts for every 1 data science cohort at Codeup. \n",
    "# Assuming that Codeup randomly selects an alumni to put on a billboard, \n",
    "# what are the odds that the two billboards I drive past both have data science students on them?\n",
    "\n",
    "# setting number of simulations and array rows to 10k\n",
    "# setting number of billboards per simulation and # of array columns to 2\n",
    "n_sims = nrows = 10000\n",
    "n_students = ncols = 2\n",
    "\n",
    "# creating numpy array that holds 10k rows and 2 columns\n",
    "# each array will hold 2 values that are randomnly chosen from 0 and 1\n",
    "# 0 = web development with 75% chance, 1 = data science with .25% chance\n",
    "billboards = np.random.choice([0 , 1], size = (n_sims, n_students), p = [.75, .25])\n",
    "\n",
    "# converting array to data frame\n",
    "billboards_df = pd.DataFrame(billboards)\n",
    "\n",
    "# summing the values in each row of dataframe\n",
    "df_sum = billboards_df.sum(axis=1)\n",
    "\n",
    "# creating boolean mask that holds true for any values greater than 1 (ie. a simulation where both values were 1 which means a data science billboard appeared twice)\n",
    "# finding mean of how often this occured\n",
    "(df_sum > 1).mean()\n"
   ]
  },
  {
   "cell_type": "code",
   "execution_count": null,
   "metadata": {},
   "outputs": [],
   "source": [
    "# Codeup students buy, on average, 3 poptart packages (+- 1.5) a day from the snack vending machine. \n",
    "# If on monday the machine is restocked with 17 poptart packages, \n",
    "# how likely is it that I will be able to buy some poptarts on Friday afternoon?\n",
    "\n",
    "# create array with 100000 rows and 5 columns\n",
    "# each row is a simulated week\n",
    "# each value within a row is how many poptarts were bought on a simulated day\n",
    "poptarts = np.round(np.random.normal(3, 1.5, size=(100_000, 5)))\n",
    "\n",
    "# create an array that holds the sum of each individual row\n",
    "# each value represents the total number of poptarts bought that week\n",
    "weekly_demand = poptarts.sum(axis=1)\n",
    "\n",
    "# create boolean mask that holds true for any value less than 17\n",
    "# any week where less than 17 poptarts were bought is a week that at least one remained on friday\n",
    "# find the percent of simulated weeks where this occured via mean to answer question\n",
    "(weekly_demand < 17).mean()\n"
   ]
  },
  {
   "cell_type": "code",
   "execution_count": 31,
   "metadata": {},
   "outputs": [
    {
     "data": {
      "text/plain": [
       "0.2126"
      ]
     },
     "execution_count": 31,
     "metadata": {},
     "output_type": "execute_result"
    }
   ],
   "source": [
    "# Compare Heights\n",
    "# Men have an average height of 178 cm and standard deviation of 8cm.\n",
    "# Women have a mean of 170, sd = 6cm.\n",
    "# If a man and woman are chosen at random, P(woman taller than man)?\n",
    "\n",
    "# creating arrays with a normal distributions\n",
    "# setting respective average heights (178 and 170), and sdevs (8 and 6)\n",
    "# one array represents men height's and the other represents women's heights\n",
    "# each value represents an individuals height\n",
    "men = np.random.normal(178, 8, 10000)\n",
    "women = np.random.normal(170, 6, 10000)\n",
    "\n",
    "# creating boolean mask that holds True when the value for a man's height is less than the corresponding women's height\n",
    "# using mean to find how often this occured\n",
    "(men < women).mean()"
   ]
  },
  {
   "cell_type": "code",
   "execution_count": 41,
   "metadata": {},
   "outputs": [
    {
     "data": {
      "text/plain": [
       "0.8177"
      ]
     },
     "execution_count": 41,
     "metadata": {},
     "output_type": "execute_result"
    }
   ],
   "source": [
    "# When installing anaconda on a student's computer, \n",
    "# there's a 1 in 250 chance that the download is corrupted and the installation fails. \n",
    "# What are the odds that after having 50 students download anaconda, no one has an installation issue?\n",
    "\n",
    "# setting number of simulations and array rows to 10k\n",
    "# setting number of students downloading per simulation and # of array columns to 50\n",
    "n_sims = nrows = 10000\n",
    "n_students = ncols = 50\n",
    "\n",
    "# creating numpy array that holds 10k rows and 50 columns\n",
    "# each array will hold 50 values that are randomnly chosen from 0 and 1\n",
    "# 0 has a 249/250 chance of being selected, 1 has a 1/250 chance of being selected\n",
    "# 0 means no corruption, 1 means a downloaded file was corrupted\n",
    "all_downloads = np.random.choice([0 , 1], size = (nrows, ncols), p = [249/250 , 1/250])\n",
    "\n",
    "# summing each row in array\n",
    "test = all_downloads.sum(axis = 1)\n",
    "\n",
    "# creating boolean mask that holds true for any row that had a value of 0\n",
    "# a value of 0 equates to a simulation where none of the 50 students had a corrupted file\n",
    "# using mean to find the percentage of times this criterion was met\n",
    "(test == 0).mean()\n"
   ]
  },
  {
   "cell_type": "code",
   "execution_count": 42,
   "metadata": {},
   "outputs": [
    {
     "data": {
      "text/plain": [
       "0.6695"
      ]
     },
     "execution_count": 42,
     "metadata": {},
     "output_type": "execute_result"
    }
   ],
   "source": [
    "# 100 students?\n",
    "\n",
    "# setting number of simulations and array rows to 10k\n",
    "# setting number of students downloading per simulation and # of array columns to 100\n",
    "n_sims = nrows = 10000\n",
    "n_students = ncols = 100\n",
    "\n",
    "# creating numpy array that holds 10k rows and 100 columns\n",
    "# each array will hold 100 values that are randomnly chosen from 0 and 1\n",
    "# 0 has a 249/250 chance of being selected, 1 has a 1/250 chance of being selected\n",
    "# 0 means no corruption, 1 means a downloaded file was corrupted\n",
    "all_downloads = np.random.choice([0 , 1], size = (nrows, ncols), p = [249/250 , 1/250])\n",
    "\n",
    "# summing each row in array\n",
    "test = all_downloads.sum(axis = 1)\n",
    "\n",
    "# creating boolean mask that holds true for any row that had a value of 0\n",
    "# a value of 0 equates to a simulation where none of the 100 students had a corrupted file\n",
    "# using mean to find the percentage of times this criterion was met\n",
    "(test == 0).mean()"
   ]
  },
  {
   "cell_type": "code",
   "execution_count": 43,
   "metadata": {},
   "outputs": [
    {
     "data": {
      "text/plain": [
       "0.4597"
      ]
     },
     "execution_count": 43,
     "metadata": {},
     "output_type": "execute_result"
    }
   ],
   "source": [
    "# What is the probability that we observe an installation issue within the first 150 students that download anaconda?\n",
    "\n",
    "# setting number of simulations and array rows to 10k\n",
    "# setting number of students downloading per simulation and # of array columns to 150\n",
    "n_sims = nrows = 10000\n",
    "n_students = ncols = 150\n",
    "\n",
    "# creating numpy array that holds 10k rows and 150 columns\n",
    "# each array will hold 150 values that are randomnly chosen from 0 and 1\n",
    "# 0 has a 249/250 chance of being selected, 1 has a 1/250 chance of being selected\n",
    "# 0 means no corruption, 1 means a downloaded file was corrupted\n",
    "all_downloads = np.random.choice([0 , 1], size = (nrows, ncols), p = [249/250 , 1/250])\n",
    "\n",
    "# summing each row in array\n",
    "test = all_downloads.sum(axis = 1)\n",
    "\n",
    "# creating boolean mask that holds true for any row that had a value of 1 or more\n",
    "# a value of 1 or more equates to a simulation where at least 1 of the 150 students had a corrupted file\n",
    "# using mean to find the percentage of times this criterion was met\n",
    "(test > 0).mean()"
   ]
  },
  {
   "cell_type": "code",
   "execution_count": 44,
   "metadata": {},
   "outputs": [
    {
     "data": {
      "text/plain": [
       "0.1676"
      ]
     },
     "execution_count": 44,
     "metadata": {},
     "output_type": "execute_result"
    }
   ],
   "source": [
    "# How likely is it that 450 students all download anaconda without an issue?\n",
    "\n",
    "# setting number of simulations and array rows to 10k\n",
    "# setting number of students downloading per simulation and # of array columns to 450\n",
    "n_sims = nrows = 10000\n",
    "n_students = ncols = 450\n",
    "\n",
    "# creating numpy array that holds 10k rows and 450 columns\n",
    "# each array will hold 450 values that are randomnly chosen from 0 and 1\n",
    "# 0 has a 249/250 chance of being selected, 1 has a 1/250 chance of being selected\n",
    "# 0 means no corruption, 1 means a downloaded file was corrupted\n",
    "all_downloads = np.random.choice([0 , 1], size = (nrows, ncols), p = [249/250 , 1/250])\n",
    "\n",
    "# summing each row in array\n",
    "test = all_downloads.sum(axis = 1)\n",
    "\n",
    "# creating boolean mask that holds true for any row that had a value of 0\n",
    "# a value of 0 equates to a simulation where none of the 450 students had a corrupted file\n",
    "# using mean to find the percentage of times this criterion was met\n",
    "(test == 0).mean()"
   ]
  },
  {
   "cell_type": "code",
   "execution_count": 53,
   "metadata": {},
   "outputs": [
    {
     "data": {
      "text/plain": [
       "0.0284"
      ]
     },
     "execution_count": 53,
     "metadata": {},
     "output_type": "execute_result"
    }
   ],
   "source": [
    "# There's a 70% chance on any given day that there will be at least one food truck at Travis Park. \n",
    "# However, you haven't seen a food truck there in 3 days. How unlikely is this?\n",
    "\n",
    "# setting number of simulations and array rows to 10k\n",
    "# setting number of days per simulation and # of array columns to 3\n",
    "ndays = ncols = 3\n",
    "sims = nrows = 10000\n",
    "\n",
    "# creating array that holds 10000 rows and 3 columns\n",
    "# each row holds a series of 0s and 1s\n",
    "# 0 = truck doesnt show (30%) | 1 = truck shows (70% chance)\n",
    "truckshow = np.random.choice([0 , 1], size = (nrows, ncols), p = [.3, .7])\n",
    "\n",
    "# summing the values in each row\n",
    "truckshowsum = truckshow.sum(axis = 1)\n",
    "\n",
    "# creating boolean mask that holds true for any row with a summed value of 0\n",
    "# these rows represent simulations where the truck did not show on any of the 3 days\n",
    "# using mean to find percent of simulations where this occurred\n",
    "(truckshowsum == 0).mean()\n"
   ]
  },
  {
   "cell_type": "code",
   "execution_count": 54,
   "metadata": {},
   "outputs": [
    {
     "data": {
      "text/plain": [
       "0.9999"
      ]
     },
     "execution_count": 54,
     "metadata": {},
     "output_type": "execute_result"
    }
   ],
   "source": [
    "# How likely is it that a food truck will show up sometime this week?\n",
    "\n",
    "# setting number of simulations and array rows to 10k\n",
    "# setting number of days per simulation and # of array columns to 7\n",
    "ndays = ncols = 7\n",
    "sims = nrows = 10000\n",
    "\n",
    "# creating array that holds 10000 rows and 7 columns\n",
    "# each row holds a series of 0s and 1s\n",
    "# 0 = truck doesnt show (30%) | 1 = truck shows (70% chance)\n",
    "truckshow = np.random.choice([0 , 1], size = (nrows, ncols), p = [.3, .7])\n",
    "\n",
    "# summing the values in each row\n",
    "truckshowsum = truckshow.sum(axis = 1)\n",
    "\n",
    "# creating boolean mask that holds true for any row with a summed value of at least 1\n",
    "# these rows represent simulations where the truck showed up at least once within the 7 day simulation\n",
    "# using mean to find percent of simulations where this occurred\n",
    "(truckshowsum > 0).mean()"
   ]
  },
  {
   "cell_type": "code",
   "execution_count": null,
   "metadata": {},
   "outputs": [],
   "source": [
    "# If 23 people are in the same room, what are the odds that two of them share a birthday? \n",
    "\n",
    "# creating empty list\n",
    "birthdays = [] \n",
    "\n",
    "# filling empty list with 365 random birthday values\n",
    "for i in range(0,365):\n",
    "    birthdays.append('birthday# ' + str(i))\n",
    "\n",
    "# creating function that compares the length of an argument with the length of the set of the same argument\n",
    "# if all of the strings within the argument are unique then the set length will be the same as the regular length\n",
    "# if at least 2 of the values in the argument are identical, then the set length will be less because sets only\n",
    "# show unique values and thus at least one value will be removed from the argument\n",
    "# if the lengths match, False is returned, otherwise True is returned\n",
    "def bday_matcher(people_bdays):\n",
    "    if len(people_bdays) == len(set(people_bdays)):\n",
    "        return False\n",
    "    else:\n",
    "        return True\n",
    "\n",
    "# setting number of simulations and array rows to 10k\n",
    "# setting number of people per simulation and # of array columns to 23\n",
    "n_sims = nrows = 10000\n",
    "n_people = ncols = 23\n",
    "\n",
    "# creating an array with 10k rows and 23 columns, each representing a simulation of 23 people comparing birthdays\n",
    "all_bdays = np.random.choice(birthdays, n_sims * n_people).reshape(nrows, ncols)\n",
    "\n",
    "# converting array to dataframe\n",
    "all_bdays_df = pd.DataFrame(all_bdays)\n",
    "\n",
    "# using lambda to create a boolean mask that holds true in any simlution where true was returned\n",
    "# this works because if at least 2 birthdays match then the function will return true since the duplicate values will\n",
    "# cause the regular length and the set length of the argument to differ\n",
    "# using mean to the find how often at least 2 birthdays in a simulation match\n",
    "answer = all_bdays_df.apply(lambda x: bday_matcher(x) == True, axis = 1).mean()\n",
    "\n",
    "print(f'The probability that among 23 people, at least 2 will share a birthday is {answer}')\n",
    "\n",
    "\n",
    "# Alternate answer\n",
    "\n",
    "# n_simulations = 100_000\n",
    "# n_people = 23\n",
    "\n",
    "# Produce some random birthdays\n",
    "# birthdays = np.random.choice(range(365), size=(n_simulations, n_people))\n",
    "# df = pd.DataFrame(birthdays)\n",
    "# df[\"n_unique\"] = df.nunique(axis=1)\n",
    "# (df.n_unique != n_people).mean()"
   ]
  },
  {
   "cell_type": "code",
   "execution_count": null,
   "metadata": {},
   "outputs": [],
   "source": [
    "# What if it's 20 people? \n",
    "\n",
    "# creating empty list\n",
    "birthdays = [] \n",
    "\n",
    "# filling empty list with 365 random birthday values\n",
    "for i in range(0,365):\n",
    "    birthdays.append('birthday# ' + str(i))\n",
    "\n",
    "# creating function that compares the length of an argument with the length of the set of the same argument\n",
    "# if all of the strings within the argument are unique then the set length will be the same as the regular length\n",
    "# if at least 2 of the values in the argument are identical, then the set length will be less because sets only\n",
    "# show unique values and thus at least one value will be removed from the argument\n",
    "# if the lengths match, False is returned, otherwise True is returned\n",
    "def bday_matcher(people_bdays):\n",
    "    if len(people_bdays) == len(set(people_bdays)):\n",
    "        return False\n",
    "    else:\n",
    "        return True\n",
    "\n",
    "# setting number of simulations and array rows to 10k\n",
    "# setting number of people per simulation and # of array columns to 20\n",
    "n_sims = nrows = 10000\n",
    "n_people = ncols = 20\n",
    "\n",
    "# creating an array with 10k rows and 20 columns, each representing a simulation of 20 people comparing birthdays\n",
    "all_bdays = np.random.choice(birthdays, n_sims * n_people).reshape(nrows, ncols)\n",
    "\n",
    "# converting array to dataframe\n",
    "all_bdays_df = pd.DataFrame(all_bdays)\n",
    "\n",
    "# using lambda to create a boolean mask that holds true in any simlution where true was returned\n",
    "# this works because if at least 2 birthdays match then the function will return true since the duplicate values will\n",
    "# cause the regular length and the set length of the argument to differ\n",
    "# using mean to the find how often at least 2 birthdays in a simulation match\n",
    "answer = all_bdays_df.apply(lambda x: bday_matcher(x) == True, axis = 1).mean()\n",
    "\n",
    "print(f'The probability that among 20 people, at least 2 will share a birthday is {answer}')\n",
    "\n",
    "# ALTERNATE ANSWER\n",
    "\n",
    "# n_simulations = 100_000\n",
    "# n_people = 20\n",
    "\n",
    "# Produce some random birthdays\n",
    "# birthdays = np.random.choice(range(365), size=(n_simulations, n_people))\n",
    "# df = pd.DataFrame(birthdays)\n",
    "# df[\"n_unique\"] = df.nunique(axis=1)\n",
    "# (df.n_unique != n_people).mean()"
   ]
  },
  {
   "cell_type": "code",
   "execution_count": 58,
   "metadata": {},
   "outputs": [
    {
     "name": "stdout",
     "output_type": "stream",
     "text": [
      "The probability that among 40 people, at least 2 will share a birthday is 0.8904\n"
     ]
    }
   ],
   "source": [
    "# 40?\n",
    "\n",
    "# creating empty list\n",
    "birthdays = [] \n",
    "\n",
    "# filling empty list with 365 random birthday values\n",
    "for i in range(0,365):\n",
    "    birthdays.append('birthday# ' + str(i))\n",
    "\n",
    "# creating function that compares the length of an argument with the length of the set of the same argument\n",
    "# if all of the strings within the argument are unique then the set length will be the same as the regular length\n",
    "# if at least 2 of the values in the argument are identical, then the set length will be less because sets only\n",
    "# show unique values and thus at least one value will be removed from the argument\n",
    "# if the lengths match, False is returned, otherwise True is returned\n",
    "def bday_matcher(people_bdays):\n",
    "    if len(people_bdays) == len(set(people_bdays)):\n",
    "        return False\n",
    "    else:\n",
    "        return True\n",
    "\n",
    "# setting number of simulations and array rows to 10k\n",
    "# setting number of people per simulation and # of array columns to 40\n",
    "n_sims = nrows = 10000\n",
    "n_people = ncols = 40\n",
    "\n",
    "# creating an array with 10k rows and 40 columns, each representing a simulation of 40 people comparing birthdays\n",
    "all_bdays = np.random.choice(birthdays, n_sims * n_people).reshape(nrows, ncols)\n",
    "\n",
    "# converting array to dataframe\n",
    "all_bdays_df = pd.DataFrame(all_bdays)\n",
    "\n",
    "# using lambda to create a boolean mask that holds true in any simlution where true was returned\n",
    "# this works because if at least 2 birthdays match then the function will return true since the duplicate values will\n",
    "# cause the regular length and the set length of the argument to differ\n",
    "# using mean to the find how often at least 2 birthdays in a simulation match\n",
    "answer = all_bdays_df.apply(lambda x: bday_matcher(x) == True, axis = 1).mean()\n",
    "\n",
    "print(f'The probability that among 40 people, at least 2 will share a birthday is {answer}')\n",
    "\n",
    "# ALTERNATE ANSWER\n",
    "# n_simulations = 100_000\n",
    "# n_people = 40\n",
    "\n",
    "# Produce some random birthdays\n",
    "# birthdays = np.random.choice(range(365), size=(n_simulations, n_people))\n",
    "# df = pd.DataFrame(birthdays)\n",
    "# df[\"n_unique\"] = df.nunique(axis=1)\n",
    "# (df.n_unique != n_people).mean()"
   ]
  },
  {
   "cell_type": "code",
   "execution_count": null,
   "metadata": {},
   "outputs": [],
   "source": []
  },
  {
   "cell_type": "code",
   "execution_count": null,
   "metadata": {},
   "outputs": [],
   "source": []
  }
 ],
 "metadata": {
  "kernelspec": {
   "display_name": "Python 3",
   "language": "python",
   "name": "python3"
  },
  "language_info": {
   "codemirror_mode": {
    "name": "ipython",
    "version": 3
   },
   "file_extension": ".py",
   "mimetype": "text/x-python",
   "name": "python",
   "nbconvert_exporter": "python",
   "pygments_lexer": "ipython3",
   "version": "3.7.6"
  }
 },
 "nbformat": 4,
 "nbformat_minor": 4
}
