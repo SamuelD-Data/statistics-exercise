{
 "cells": [
  {
   "cell_type": "code",
   "execution_count": 1,
   "metadata": {},
   "outputs": [],
   "source": [
    "import numpy as np\n",
    "import pandas as pd"
   ]
  },
  {
   "cell_type": "code",
   "execution_count": 54,
   "metadata": {},
   "outputs": [
    {
     "data": {
      "text/plain": [
       "0.1649"
      ]
     },
     "execution_count": 54,
     "metadata": {},
     "output_type": "execute_result"
    }
   ],
   "source": [
    "# How likely is it that you roll doubles when rolling two dice?\n",
    "\n",
    "n_sims = nrows = 10000\n",
    "n_dice = ncols = 2\n",
    "\n",
    "rolls = np.random.choice([1, 2, 3, 4, 5, 6], n_sims * n_dice).reshape(nrows, ncols)\n",
    "\n",
    "doubles = (pd.DataFrame(rolls).apply(lambda x: x[0] == x[1], axis=1).mean())\n",
    "\n",
    "doubles"
   ]
  },
  {
   "cell_type": "code",
   "execution_count": 119,
   "metadata": {},
   "outputs": [
    {
     "data": {
      "text/plain": [
       "0.2241"
      ]
     },
     "execution_count": 119,
     "metadata": {},
     "output_type": "execute_result"
    }
   ],
   "source": [
    "# If you flip 8 coins, what is the probability of getting exactly 3 heads? \n",
    "\n",
    "def heads_counter(coinflips):\n",
    "    count = 0\n",
    "    for result in coinflips:\n",
    "        if result == 'heads':\n",
    "            count += 1\n",
    "    return count\n",
    "\n",
    "n_sims = nrows = 10000\n",
    "n_coins = ncols = 8\n",
    "\n",
    "flips = np.random.choice(['heads', 'tails'], n_sims * n_coins).reshape(nrows, ncols)\n",
    "\n",
    "flips_df = pd.DataFrame(flips)\n",
    "\n",
    "flips_df.apply(lambda x: heads_counter(x) == 3, axis = 1).mean()"
   ]
  },
  {
   "cell_type": "code",
   "execution_count": 120,
   "metadata": {},
   "outputs": [
    {
     "data": {
      "text/plain": [
       "0.6475"
      ]
     },
     "execution_count": 120,
     "metadata": {},
     "output_type": "execute_result"
    }
   ],
   "source": [
    "# What is the probability of getting more than 3 heads?\n",
    "\n",
    "def heads_counter(coinflips):\n",
    "    count = 0\n",
    "    for result in coinflips:\n",
    "        if result == 'heads':\n",
    "            count += 1\n",
    "    return count\n",
    "\n",
    "n_sims = nrows = 10000\n",
    "n_coins = ncols = 8\n",
    "\n",
    "flips = np.random.choice(['heads', 'tails'], n_sims * n_coins).reshape(nrows, ncols)\n",
    "\n",
    "flips_df = pd.DataFrame(flips)\n",
    "\n",
    "flips_df.apply(lambda x: heads_counter(x) > 3, axis = 1).mean()"
   ]
  },
  {
   "cell_type": "code",
   "execution_count": 247,
   "metadata": {},
   "outputs": [
    {
     "data": {
      "text/plain": [
       "0.0665"
      ]
     },
     "execution_count": 247,
     "metadata": {},
     "output_type": "execute_result"
    }
   ],
   "source": [
    "# There are approximitely 3 web development cohorts for every 1 data science cohort at Codeup. \n",
    "# Assuming that Codeup randomly selects an alumni to put on a billboard, \n",
    "# what are the odds that the two billboards I drive past both have data science students on them?\n",
    "\n",
    "def alumni_counter(alumni):\n",
    "    count = 0\n",
    "    for result in alumni:\n",
    "        if result == 'DS':\n",
    "            count += 1\n",
    "    return count\n",
    "\n",
    "n_sims = nrows = 10000\n",
    "n_students = ncols = 2\n",
    "\n",
    "billboards = np.random.choice(['WD1', 'WD2', 'WD3', 'DS'], n_sims * n_students).reshape(nrows, ncols)\n",
    "\n",
    "billboards_df = pd.DataFrame(billboards)\n",
    "\n",
    "billboards_df.apply(lambda x: alumni_counter(x) > 1, axis = 1).mean()"
   ]
  },
  {
   "cell_type": "code",
   "execution_count": 125,
   "metadata": {},
   "outputs": [],
   "source": [
    "# Codeup students buy, on average, 3 poptart packages (+- 1.5) a day from the snack vending machine. \n",
    "# If on monday the machine is restocked with 17 poptart packages, \n",
    "# how likely is it that I will be able to buy some poptarts on Friday afternoon?"
   ]
  },
  {
   "cell_type": "code",
   "execution_count": null,
   "metadata": {},
   "outputs": [],
   "source": [
    "# Compare Heights\n",
    "# Men have an average height of 178 cm and standard deviation of 8cm.\n",
    "# Women have a mean of 170, sd = 6cm.\n",
    "# If a man and woman are chosen at random, P(woman taller than man)?"
   ]
  },
  {
   "cell_type": "code",
   "execution_count": 181,
   "metadata": {},
   "outputs": [
    {
     "data": {
      "text/plain": [
       "0.8202"
      ]
     },
     "execution_count": 181,
     "metadata": {},
     "output_type": "execute_result"
    }
   ],
   "source": [
    "# When installing anaconda on a student's computer, \n",
    "# there's a 1 in 250 chance that the download is corrupted and the installation fails. \n",
    "# What are the odds that after having 50 students download anaconda, no one has an installation issue?\n",
    "\n",
    "downloads = [] \n",
    "\n",
    "for i in range(0,249):\n",
    "    downloads.append('not_corrupted_download# ' + str(i))\n",
    "    \n",
    "downloads.append('CORRUPTED')\n",
    "\n",
    "def corruption_counter(downloaded_files):\n",
    "    count = 0\n",
    "    for result in downloaded_files:\n",
    "        if result == 'CORRUPTED':\n",
    "            count += 1\n",
    "    return count\n",
    "\n",
    "n_sims = nrows = 10000\n",
    "n_students = ncols = 50\n",
    "\n",
    "all_downloads = np.random.choice(downloads, n_sims * n_students).reshape(nrows, ncols)\n",
    "\n",
    "all_downloads_df = pd.DataFrame(all_downloads)\n",
    "\n",
    "all_downloads_df.apply(lambda x: corruption_counter(x) == 0, axis = 1).mean()\n"
   ]
  },
  {
   "cell_type": "code",
   "execution_count": 189,
   "metadata": {},
   "outputs": [
    {
     "data": {
      "text/plain": [
       "0.6734"
      ]
     },
     "execution_count": 189,
     "metadata": {},
     "output_type": "execute_result"
    }
   ],
   "source": [
    "# 100 students?\n",
    "\n",
    "downloads = [] \n",
    "\n",
    "for i in range(0,249):\n",
    "    downloads.append('not_corrupted_download# ' + str(i))\n",
    "    \n",
    "downloads.append('CORRUPTED')\n",
    "\n",
    "def corruption_counter(downloaded_files):\n",
    "    count = 0\n",
    "    for result in downloaded_files:\n",
    "        if result == 'CORRUPTED':\n",
    "            count += 1\n",
    "    return count\n",
    "\n",
    "n_sims = nrows = 10000\n",
    "n_students = ncols = 100\n",
    "\n",
    "all_downloads = np.random.choice(downloads, n_sims * n_students).reshape(nrows, ncols)\n",
    "\n",
    "all_downloads_df = pd.DataFrame(all_downloads)\n",
    "\n",
    "all_downloads_df.apply(lambda x: corruption_counter(x) == 0, axis = 1).mean()"
   ]
  },
  {
   "cell_type": "code",
   "execution_count": 190,
   "metadata": {},
   "outputs": [
    {
     "data": {
      "text/plain": [
       "0.4516"
      ]
     },
     "execution_count": 190,
     "metadata": {},
     "output_type": "execute_result"
    }
   ],
   "source": [
    "# What is the probability \n",
    "# that we observe an installation issue within the first 150 students that download anaconda?\n",
    "\n",
    "downloads = [] \n",
    "\n",
    "for i in range(0,249):\n",
    "    downloads.append('not_corrupted_download# ' + str(i))\n",
    "    \n",
    "downloads.append('CORRUPTED')\n",
    "\n",
    "def corruption_counter(downloaded_files):\n",
    "    count = 0\n",
    "    for result in downloaded_files:\n",
    "        if result == 'CORRUPTED':\n",
    "            count += 1\n",
    "    return count\n",
    "\n",
    "n_sims = nrows = 10000\n",
    "n_students = ncols = 150\n",
    "\n",
    "all_downloads = np.random.choice(downloads, n_sims * n_students).reshape(nrows, ncols)\n",
    "\n",
    "all_downloads_df = pd.DataFrame(all_downloads)\n",
    "\n",
    "1 - (all_downloads_df.apply(lambda x: corruption_counter(x) == 0, axis = 1).mean())\n"
   ]
  },
  {
   "cell_type": "code",
   "execution_count": 191,
   "metadata": {},
   "outputs": [
    {
     "data": {
      "text/plain": [
       "0.3326"
      ]
     },
     "execution_count": 191,
     "metadata": {},
     "output_type": "execute_result"
    }
   ],
   "source": [
    "# 100 students?\n",
    "\n",
    "downloads = [] \n",
    "\n",
    "for i in range(0,249):\n",
    "    downloads.append('not_corrupted_download# ' + str(i))\n",
    "    \n",
    "downloads.append('CORRUPTED')\n",
    "\n",
    "def corruption_counter(downloaded_files):\n",
    "    count = 0\n",
    "    for result in downloaded_files:\n",
    "        if result == 'CORRUPTED':\n",
    "            count += 1\n",
    "    return count\n",
    "\n",
    "n_sims = nrows = 10000\n",
    "n_students = ncols = 100\n",
    "\n",
    "all_downloads = np.random.choice(downloads, n_sims * n_students).reshape(nrows, ncols)\n",
    "\n",
    "all_downloads_df = pd.DataFrame(all_downloads)\n",
    "\n",
    "1 - (all_downloads_df.apply(lambda x: corruption_counter(x) == 0, axis = 1).mean())\n"
   ]
  },
  {
   "cell_type": "code",
   "execution_count": 192,
   "metadata": {},
   "outputs": [
    {
     "data": {
      "text/plain": [
       "0.1682"
      ]
     },
     "execution_count": 192,
     "metadata": {},
     "output_type": "execute_result"
    }
   ],
   "source": [
    "# How likely is it that 450 students all download anaconda without an issue?\n",
    "\n",
    "downloads = [] \n",
    "\n",
    "for i in range(0,249):\n",
    "    downloads.append('not_corrupted_download# ' + str(i))\n",
    "    \n",
    "downloads.append('CORRUPTED')\n",
    "\n",
    "def corruption_counter(downloaded_files):\n",
    "    count = 0\n",
    "    for result in downloaded_files:\n",
    "        if result == 'CORRUPTED':\n",
    "            count += 1\n",
    "    return count\n",
    "\n",
    "n_sims = nrows = 10000\n",
    "n_students = ncols = 450\n",
    "\n",
    "all_downloads = np.random.choice(downloads, n_sims * n_students).reshape(nrows, ncols)\n",
    "\n",
    "all_downloads_df = pd.DataFrame(all_downloads)\n",
    "\n",
    "all_downloads_df.apply(lambda x: corruption_counter(x) == 0, axis = 1).mean()"
   ]
  },
  {
   "cell_type": "code",
   "execution_count": 199,
   "metadata": {},
   "outputs": [
    {
     "data": {
      "text/plain": [
       "0.02684"
      ]
     },
     "execution_count": 199,
     "metadata": {},
     "output_type": "execute_result"
    }
   ],
   "source": [
    "# There's a 70% chance on any given day that there will be at least one food truck at Travis Park. \n",
    "# However, you haven't seen a food truck there in 3 days. How unlikely is this?\n",
    "\n",
    "truck_chance = .7\n",
    "ndays = ncols = 3\n",
    "n_simulated_weekends = nrows = 10**5\n",
    "\n",
    "data = np.random.random((nrows, ncols))\n",
    "truck_shows = data < truck_chance\n",
    "\n",
    "(truck_shows.sum(axis=1) == 0).mean()"
   ]
  },
  {
   "cell_type": "code",
   "execution_count": 203,
   "metadata": {},
   "outputs": [
    {
     "data": {
      "text/plain": [
       "0.99981"
      ]
     },
     "execution_count": 203,
     "metadata": {},
     "output_type": "execute_result"
    }
   ],
   "source": [
    "# How likely is it that a food truck will show up sometime this week?\n",
    "\n",
    "truck_chance = .7\n",
    "ndays = ncols = 7\n",
    "n_sims = nrows = 10**5\n",
    "\n",
    "data = np.random.random((nrows, ncols))\n",
    "truck_shows = data < truck_chance\n",
    "\n",
    "(truck_shows.sum(axis=1) >= 1).mean()"
   ]
  },
  {
   "cell_type": "code",
   "execution_count": 293,
   "metadata": {},
   "outputs": [
    {
     "data": {
      "text/plain": [
       "0.5036"
      ]
     },
     "execution_count": 293,
     "metadata": {},
     "output_type": "execute_result"
    }
   ],
   "source": [
    "# If 23 people are in the same room, what are the odds that two of them share a birthday? \n",
    "\n",
    "birthdays = [] \n",
    "\n",
    "for i in range(0,365):\n",
    "    birthdays.append('birthday# ' + str(i))\n",
    "\n",
    "def bday_matcher(people_bdays):\n",
    "    if len(people_bdays) == len(set(people_bdays)):\n",
    "        return False\n",
    "    else:\n",
    "        return True\n",
    "\n",
    "n_sims = nrows = 10000\n",
    "n_people = ncols = 23\n",
    "\n",
    "all_bdays = np.random.choice(birthdays, n_sims * n_people).reshape(nrows, ncols)\n",
    "\n",
    "all_bdays_df = pd.DataFrame(all_bdays)\n",
    "\n",
    "all_bdays_df.apply(lambda x: bday_matcher(x) == True, axis = 1).mean()"
   ]
  },
  {
   "cell_type": "code",
   "execution_count": 294,
   "metadata": {},
   "outputs": [
    {
     "data": {
      "text/plain": [
       "0.4068"
      ]
     },
     "execution_count": 294,
     "metadata": {},
     "output_type": "execute_result"
    }
   ],
   "source": [
    "# What if it's 20 people? \n",
    "\n",
    "birthdays = [] \n",
    "\n",
    "for i in range(0,365):\n",
    "    birthdays.append('birthday# ' + str(i))\n",
    "\n",
    "def bday_matcher(people_bdays):\n",
    "    if len(people_bdays) == len(set(people_bdays)):\n",
    "        return False\n",
    "    else:\n",
    "        return True\n",
    "\n",
    "n_sims = nrows = 10000\n",
    "n_people = ncols = 20\n",
    "\n",
    "all_bdays = np.random.choice(birthdays, n_sims * n_people).reshape(nrows, ncols)\n",
    "\n",
    "all_bdays_df = pd.DataFrame(all_bdays)\n",
    "\n",
    "all_bdays_df.apply(lambda x: bday_matcher(x) == True, axis = 1).mean()"
   ]
  },
  {
   "cell_type": "code",
   "execution_count": 295,
   "metadata": {},
   "outputs": [
    {
     "data": {
      "text/plain": [
       "0.8906"
      ]
     },
     "execution_count": 295,
     "metadata": {},
     "output_type": "execute_result"
    }
   ],
   "source": [
    "# 40?\n",
    "\n",
    "birthdays = [] \n",
    "\n",
    "for i in range(0,365):\n",
    "    birthdays.append('birthday# ' + str(i))\n",
    "\n",
    "def bday_matcher(people_bdays):\n",
    "    if len(people_bdays) == len(set(people_bdays)):\n",
    "        return False\n",
    "    else:\n",
    "        return True\n",
    "\n",
    "n_sims = nrows = 10000\n",
    "n_people = ncols = 40\n",
    "\n",
    "all_bdays = np.random.choice(birthdays, n_sims * n_people).reshape(nrows, ncols)\n",
    "\n",
    "all_bdays_df = pd.DataFrame(all_bdays)\n",
    "\n",
    "all_bdays_df.apply(lambda x: bday_matcher(x) == True, axis = 1).mean()"
   ]
  },
  {
   "cell_type": "code",
   "execution_count": null,
   "metadata": {},
   "outputs": [],
   "source": []
  }
 ],
 "metadata": {
  "kernelspec": {
   "display_name": "Python 3",
   "language": "python",
   "name": "python3"
  },
  "language_info": {
   "codemirror_mode": {
    "name": "ipython",
    "version": 3
   },
   "file_extension": ".py",
   "mimetype": "text/x-python",
   "name": "python",
   "nbconvert_exporter": "python",
   "pygments_lexer": "ipython3",
   "version": "3.7.6"
  }
 },
 "nbformat": 4,
 "nbformat_minor": 4
}
