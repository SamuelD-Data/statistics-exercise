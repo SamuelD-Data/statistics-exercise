{
 "cells": [
  {
   "cell_type": "code",
   "execution_count": 2,
   "metadata": {},
   "outputs": [],
   "source": [
    "# importing numpy and pandas for later use\n",
    "import numpy as np\n",
    "import pandas as pd"
   ]
  },
  {
   "cell_type": "code",
   "execution_count": 393,
   "metadata": {},
   "outputs": [
    {
     "name": "stdout",
     "output_type": "stream",
     "text": [
      "The chance of rolling doubles is 0.1673\n"
     ]
    }
   ],
   "source": [
    "# How likely is it that you roll doubles when rolling two dice?\n",
    "\n",
    "# setting number of simulations and array rows to 10k\n",
    "# setting number of dice rolls per simulation and # of array columns to 2\n",
    "n_sims = nrows = 10000\n",
    "n_dice = ncols = 2\n",
    "\n",
    "# creating numpy array that holds 10k rows and 2 columns\n",
    "# each array will hold 2 numbers that are randomnly chosen from the numbers 1 - 6\n",
    "rolls = np.random.choice([1, 2, 3, 4, 5, 6], n_sims * n_dice).reshape(nrows, ncols)\n",
    "\n",
    "# converting array to data frame\n",
    "# using lambda to check which arrays are composed of two numbers that match\n",
    "# if the digits in an array match, True will populate for it in the boolean mask, otherwise false\n",
    "# using mean to find the average amount of Trues in the mask ie. the answer\n",
    "doubles = (pd.DataFrame(rolls).apply(lambda x: x[0] == x[1], axis=1).mean())\n",
    "\n",
    "# displaying results\n",
    "print(f'The chance of rolling doubles is {doubles}')\n"
   ]
  },
  {
   "cell_type": "code",
   "execution_count": 394,
   "metadata": {},
   "outputs": [
    {
     "name": "stdout",
     "output_type": "stream",
     "text": [
      "The probability of getting exactly 3 heads is 0.2246\n"
     ]
    }
   ],
   "source": [
    "# If you flip 8 coins, what is the probability of getting exactly 3 heads? \n",
    "\n",
    "# function will take in list and count how many values are the string 'heads' then return the count \n",
    "def heads_counter(coinflips):\n",
    "    count = 0\n",
    "    for result in coinflips:\n",
    "        if result == 'heads':\n",
    "            count += 1\n",
    "    return count\n",
    "\n",
    "# setting number of simulations and eventual data frame rows to 10k\n",
    "# setting number of flips per simulation and # of array columns to 8\n",
    "n_sims = nrows = 10000\n",
    "n_coins = ncols = 8\n",
    "\n",
    "# creating numpy array that holds 10k rows and 8 columns\n",
    "# each array will hold 8 values that are randomnly chosen from heads or tails\n",
    "flips = np.random.choice(['heads', 'tails'], n_sims * n_coins).reshape(nrows, ncols)\n",
    "\n",
    "# converting array to data frame\n",
    "flips_df = pd.DataFrame(flips)\n",
    "\n",
    "# using lambda to create boolean mask that uses earlier function to check how many heads are in each array\n",
    "# and hold true for any array that has exactly 3 heads\n",
    "# finding mean ie. the answer\n",
    "answer = flips_df.apply(lambda x: heads_counter(x) == 3, axis = 1).mean()\n",
    "\n",
    "print(f'The probability of getting exactly 3 heads is {answer}')\n"
   ]
  },
  {
   "cell_type": "code",
   "execution_count": 395,
   "metadata": {},
   "outputs": [
    {
     "name": "stdout",
     "output_type": "stream",
     "text": [
      "The probability of getting more than 3 heads is 0.641\n"
     ]
    }
   ],
   "source": [
    "# What is the probability of getting more than 3 heads?\n",
    "\n",
    "# function will take in list and count how many values are the string 'heads' then return the count \n",
    "def heads_counter(coinflips):\n",
    "    count = 0\n",
    "    for result in coinflips:\n",
    "        if result == 'heads':\n",
    "            count += 1\n",
    "    return count\n",
    "\n",
    "# setting number of simulations and array rows to 10k\n",
    "# setting number of coin flips per simulation and # of array columns to 8\n",
    "n_sims = nrows = 10000\n",
    "n_coins = ncols = 8\n",
    "\n",
    "# creating numpy array that holds 10k rows and 8 columns\n",
    "# each array will hold 8 values that are randomnly chosen from heads or tails\n",
    "flips = np.random.choice(['heads', 'tails'], n_sims * n_coins).reshape(nrows, ncols)\n",
    "\n",
    "# converting array to data frame\n",
    "flips_df = pd.DataFrame(flips)\n",
    "\n",
    "# using lambda to create boolean mask that uses earlier function to check how many heads are in each array\n",
    "# and hold true for any array that has more than 3 heads\n",
    "# finding mean ie. the answer\n",
    "answer = flips_df.apply(lambda x: heads_counter(x) > 3, axis = 1).mean()\n",
    "\n",
    "print(f'The probability of getting more than 3 heads is {answer}')\n",
    "\n"
   ]
  },
  {
   "cell_type": "code",
   "execution_count": 396,
   "metadata": {},
   "outputs": [
    {
     "name": "stdout",
     "output_type": "stream",
     "text": [
      "The probability that both billboards have DS student is 0.0646\n"
     ]
    }
   ],
   "source": [
    "# There are approximitely 3 web development cohorts for every 1 data science cohort at Codeup. \n",
    "# Assuming that Codeup randomly selects an alumni to put on a billboard, \n",
    "# what are the odds that the two billboards I drive past both have data science students on them?\n",
    "\n",
    "# creating function that will count how many times the string DS appears in the argument that is sent to it\n",
    "def alumni_counter(alumni):\n",
    "    count = 0\n",
    "    for result in alumni:\n",
    "        if result == 'DS':\n",
    "            count += 1\n",
    "    return count\n",
    "\n",
    "# setting number of simulations and array rows to 10k\n",
    "# setting number of billboards per simulation and # of array columns to 2\n",
    "n_sims = nrows = 10000\n",
    "n_students = ncols = 2\n",
    "\n",
    "# creating numpy array that holds 10k rows and 2 columns\n",
    "# each array will hold 2 values that are randomnly chosen from WD1-3 and DS, with DS representing data science\n",
    "billboards = np.random.choice(['WD1', 'WD2', 'WD3', 'DS'], n_sims * n_students).reshape(nrows, ncols)\n",
    "\n",
    "# converting array to data frame\n",
    "billboards_df = pd.DataFrame(billboards)\n",
    "\n",
    "# using lambda to create boolean mask that uses earlier function to check how many DS values are in each array\n",
    "# and hold true for any array that is all DS values ie. a scenario where both billboards were data science billboards\n",
    "# finding mean ie. the answer\n",
    "answer = billboards_df.apply(lambda x: alumni_counter(x) > 1, axis = 1).mean()\n",
    "\n",
    "print(f'The probability that both billboards have DS student is {answer}')\n",
    "\n",
    "\n",
    "# Alternate answer:\n",
    "\n",
    "# n_simulations = nrows = 10**5\n",
    "# n_billboards = ncols = 2\n",
    "\n",
    "# choice = ['Web Dev', 'Data Science']\n",
    "# billboards = np.random.choice(choice, nrows * ncols, p = [.75,.25]).reshape(nrows,ncols)\n",
    "\n",
    "# billboards_df = pd.DataFrame(billboards)\n",
    "#  billboards_df.apply(lambda x: x[0] == x[1] == 'Data Science', axis = 1).mean()\n"
   ]
  },
  {
   "cell_type": "code",
   "execution_count": 6,
   "metadata": {},
   "outputs": [
    {
     "data": {
      "text/plain": [
       "0.66888"
      ]
     },
     "execution_count": 6,
     "metadata": {},
     "output_type": "execute_result"
    }
   ],
   "source": [
    "# Codeup students buy, on average, 3 poptart packages (+- 1.5) a day from the snack vending machine. \n",
    "# If on monday the machine is restocked with 17 poptart packages, \n",
    "# how likely is it that I will be able to buy some poptarts on Friday afternoon?\n",
    "\n",
    "# create array with 100000 rows and 5 columns\n",
    "# each row is a simulated week\n",
    "# each value within a row is how many poptarts were bought on a simulated day\n",
    "poptarts = np.round(np.random.normal(3, 1.5, size=(100_000, 5)))\n",
    "\n",
    "# create an array that holds the sum of each individual row\n",
    "# each value represents the total number of poptarts bought that week\n",
    "weekly_demand = poptarts.sum(axis=1)\n",
    "\n",
    "# create boolean mask that holds true for any value less than 17\n",
    "# any week where less than 17 poptarts were bought is a week that at least one remained on friday\n",
    "# find the percent of simulated weeks where this occured via mean to answer question\n",
    "(weekly_demand < 17).mean()\n",
    "\n"
   ]
  },
  {
   "cell_type": "code",
   "execution_count": 436,
   "metadata": {},
   "outputs": [
    {
     "name": "stdout",
     "output_type": "stream",
     "text": [
      "0.21104285714285714\n"
     ]
    }
   ],
   "source": [
    "# Compare Heights\n",
    "# Men have an average height of 178 cm and standard deviation of 8cm.\n",
    "# Women have a mean of 170, sd = 6cm.\n",
    "# If a man and woman are chosen at random, P(woman taller than man)?\n",
    "\n",
    "# setting number of simulations and array rows to 10000\n",
    "# setting number of columns for array to 1\n",
    "n_simulations = nrows = 10000\n",
    "n_columns = 1\n",
    "\n",
    "# creating arrays with a normal distributions\n",
    "# setting respective average heights (178 and 170), and sdevs (8 and 6)\n",
    "# setting dimensions of array to 1 column and 10000 rows each\n",
    "# 1 array represents men height's and the other represents women's heights\n",
    "# each row represents an individuals height\n",
    "men = np.random.normal(178, 8, nrows * ncolumns)\n",
    "women = np.random.normal(170, 6, nrows * ncolumns)\n",
    "\n",
    "# converting arrays to data frames\n",
    "men_df = pd.DataFrame(men)\n",
    "women_df = pd.DataFrame(women)\n",
    "\n",
    "# creating new dataframe that is a concatnation of the two previous data frames\n",
    "combo = pd.concat([men_df, women_df], ignore_index = True, axis = 1)\n",
    "\n",
    "# applying lambda to new data frame that will create a boolean mask\n",
    "# the mask will hold true for any row where the women column value is greater than\n",
    "# the corresponding men column value (ie. the woman is taller than the man) and false otherwise\n",
    "# using mean to find percentage of instances where this occured True\n",
    "print((combo.apply(lambda row: row[0] < row[1], axis = 1)).mean())\n"
   ]
  },
  {
   "cell_type": "code",
   "execution_count": 399,
   "metadata": {},
   "outputs": [
    {
     "name": "stdout",
     "output_type": "stream",
     "text": [
      "The probability of no installation issues among 50 students is 0.8124\n"
     ]
    }
   ],
   "source": [
    "# When installing anaconda on a student's computer, \n",
    "# there's a 1 in 250 chance that the download is corrupted and the installation fails. \n",
    "# What are the odds that after having 50 students download anaconda, no one has an installation issue?\n",
    "\n",
    "# creating empty list\n",
    "downloads = [] \n",
    "\n",
    "# filling list with 249 values that represent non-corrupted installations\n",
    "for i in range(0,249):\n",
    "    downloads.append('not_corrupted_download# ' + str(i))\n",
    "\n",
    "# adding one value to list that represents corrupted value\n",
    "downloads.append('CORRUPTED')\n",
    "\n",
    "# creating function that will count how many corrupted values are in the argument passed to it\n",
    "def corruption_counter(downloaded_files):\n",
    "    count = 0\n",
    "    for result in downloaded_files:\n",
    "        if result == 'CORRUPTED':\n",
    "            count += 1\n",
    "    return count\n",
    "\n",
    "# setting number of simulations and array rows to 10k\n",
    "# setting number of students downloading per simulation and # of array columns to 50\n",
    "n_sims = nrows = 10000\n",
    "n_students = ncols = 50\n",
    "\n",
    "# creating numpy array that holds 10k rows and 50 columns\n",
    "# each array will hold 50 values that are randomnly chosen from the downloads list\n",
    "all_downloads = np.random.choice(downloads, n_sims * n_students).reshape(nrows, ncols)\n",
    "\n",
    "# converting array to dataframe\n",
    "all_downloads_df = pd.DataFrame(all_downloads)\n",
    "\n",
    "# # using lambda to create boolean mask that uses earlier function to check how many corrupted values are in each array\n",
    "# and hold true for any array that has any corrupted values ie. a scenario where at least one student has a corrupted download\n",
    "# using mean to find percentage of instances that true was the result\n",
    "answer =all_downloads_df.apply(lambda x: corruption_counter(x) == 0, axis = 1).mean()\n",
    "\n",
    "print(f'The probability of no installation issues among 50 students is {answer}')\n",
    "\n",
    "# ALTERNATE ANSWER:\n",
    "\n",
    "# n_simulations = nrows = 10000\n",
    "# n_students = ncolumns = 50\n",
    "\n",
    "# choice = [0,1]\n",
    "# corruption = np.random.choice(choice, nrows * ncolumns, p = [.996, .004]).reshape(nrows, ncolumns)\n",
    "\n",
    "# corruption_df = pd.DataFrame(corruption)\n",
    "\n",
    "# corruption_df.apply(lambda row: sum(row) == 0, axis = 1).mean()\n"
   ]
  },
  {
   "cell_type": "code",
   "execution_count": 400,
   "metadata": {},
   "outputs": [
    {
     "name": "stdout",
     "output_type": "stream",
     "text": [
      "The probability of no installation issues among 100 students is 0.6692\n"
     ]
    }
   ],
   "source": [
    "# 100 students?\n",
    "\n",
    "# creating empty list\n",
    "downloads = [] \n",
    "\n",
    "# filling list with 249 values that represent non-corrupted installations\n",
    "for i in range(0,249):\n",
    "    downloads.append('not_corrupted_download# ' + str(i))\n",
    "\n",
    "# adding one value to list that represents corrupted value\n",
    "downloads.append('CORRUPTED')\n",
    "\n",
    "# creating function that will count how many corrupted values are in the argument passed to it\n",
    "def corruption_counter(downloaded_files):\n",
    "    count = 0\n",
    "    for result in downloaded_files:\n",
    "        if result == 'CORRUPTED':\n",
    "            count += 1\n",
    "    return count\n",
    "\n",
    "# setting number of simulations and array rows to 10k\n",
    "# setting number of students downloading per simulation and # of array columns to 100\n",
    "n_sims = nrows = 10000\n",
    "n_students = ncols = 100\n",
    "\n",
    "# creating numpy array that holds 10k rows and 100 columns\n",
    "# each array will hold 100 values that are randomnly chosen from the downloads list\n",
    "all_downloads = np.random.choice(downloads, n_sims * n_students).reshape(nrows, ncols)\n",
    "\n",
    "# converting array to dataframe\n",
    "all_downloads_df = pd.DataFrame(all_downloads)\n",
    "\n",
    "# # using lambda to create boolean mask that uses earlier function to check how many corrupted values are in each array\n",
    "# and hold true for any array that has any corrupted values ie. a scenario where at least one student has a corrupted download\n",
    "# using mean to find percentage of instances that true was the result\n",
    "answer = all_downloads_df.apply(lambda x: corruption_counter(x) == 0, axis = 1).mean()\n",
    "\n",
    "print(f'The probability of no installation issues among 100 students is {answer}')\n",
    "\n",
    "# ALTERNATE ANSWER:\n",
    "\n",
    "# n_simulations = nrows = 10000\n",
    "# n_downloads = ncolumns = 100\n",
    "\n",
    "# choice = [0,1]\n",
    "\n",
    "# corruption = np.random.choice(choice, nrows * ncolumns, p = [.996, .004]).reshape(nrows, ncolumns)\n",
    "\n",
    "# corruption_df = pd.DataFrame(corruption)\n",
    "\n",
    "# corruption_df.apply(lambda row: sum(row) == 0, axis = 1).mean()"
   ]
  },
  {
   "cell_type": "code",
   "execution_count": 401,
   "metadata": {},
   "outputs": [
    {
     "name": "stdout",
     "output_type": "stream",
     "text": [
      "The probabliity of observing at least 1 issue within the first 150 students is 0.4467\n"
     ]
    }
   ],
   "source": [
    "# What is the probability \n",
    "# that we observe an installation issue within the first 150 students that download anaconda?\n",
    "\n",
    "# creating empty list\n",
    "downloads = [] \n",
    "\n",
    "# filling list with 249 values that represent non-corrupted installations\n",
    "for i in range(0,249):\n",
    "    downloads.append('not_corrupted_download# ' + str(i))\n",
    "\n",
    "# adding one value to list that represents corrupted value    \n",
    "downloads.append('CORRUPTED')\n",
    "\n",
    "# creating function that will count how many corrupted values are in the argument passed to it\n",
    "def corruption_counter(downloaded_files):\n",
    "    count = 0\n",
    "    for result in downloaded_files:\n",
    "        if result == 'CORRUPTED':\n",
    "            count += 1\n",
    "    return count\n",
    "\n",
    "# setting number of simulations and array rows to 10k\n",
    "# setting number of students downloading per simulation and # of array columns to 150\n",
    "n_sims = nrows = 10000\n",
    "n_students = ncols = 150\n",
    "\n",
    "# creating numpy array that holds 10k rows and 150 columns\n",
    "# each array will hold 150 values that are randomnly chosen from the downloads list\n",
    "all_downloads = np.random.choice(downloads, n_sims * n_students).reshape(nrows, ncols)\n",
    "\n",
    "# converting array to dataframe\n",
    "all_downloads_df = pd.DataFrame(all_downloads)\n",
    "\n",
    "# # using lambda to create boolean mask that uses earlier function to check how many corrupted values are in each array\n",
    "# and hold true for any array that has any corrupted values ie. a scenario where at least one student has a corrupted download\n",
    "# using mean to find percentage of instances that true was the result\n",
    "answer = 1 - (all_downloads_df.apply(lambda x: corruption_counter(x) == 0, axis = 1).mean())\n",
    "\n",
    "print(f'The probabliity of observing at least 1 issue within the first 150 students is {answer}')\n",
    "\n",
    "# Alternate Answer\n",
    "\n",
    "# nsimulations = nrows = 10000\n",
    "# ndownloads = ncolumns = 150\n",
    "\n",
    "# choice = [0,1]\n",
    "\n",
    "# corruption = np.random.choice(choice, nrows * ncolumns, p = [.996, .004]).reshape(nrows, ncolumns)\n",
    "\n",
    "# corruption_df = pd.DataFrame(corruption)\n",
    "\n",
    "# corruption_df.apply(lambda row: sum(row) >= 1, axis = 1).mean()"
   ]
  },
  {
   "cell_type": "code",
   "execution_count": 402,
   "metadata": {},
   "outputs": [
    {
     "name": "stdout",
     "output_type": "stream",
     "text": [
      "The probability of no installation issues among 450 students is 0.167\n"
     ]
    }
   ],
   "source": [
    "# How likely is it that 450 students all download anaconda without an issue?\n",
    "\n",
    "# creating empty list\n",
    "downloads = [] \n",
    "\n",
    "# filling list with 249 values that represent non-corrupted installations\n",
    "for i in range(0,249):\n",
    "    downloads.append('not_corrupted_download# ' + str(i))\n",
    "\n",
    "# adding one value to list that represents corrupted value\n",
    "downloads.append('CORRUPTED')\n",
    "\n",
    "# creating function that will count how many corrupted values are in the argument passed to it\n",
    "def corruption_counter(downloaded_files):\n",
    "    count = 0\n",
    "    for result in downloaded_files:\n",
    "        if result == 'CORRUPTED':\n",
    "            count += 1\n",
    "    return count\n",
    "\n",
    "# setting number of simulations and array rows to 10k\n",
    "# setting number of students downloading per simulation and # of array columns to 450\n",
    "n_sims = nrows = 10000\n",
    "n_students = ncols = 450\n",
    "\n",
    "# creating numpy array that holds 10k rows and 450 columns\n",
    "# each array will hold 450 values that are randomnly chosen from the downloads list\n",
    "all_downloads = np.random.choice(downloads, n_sims * n_students).reshape(nrows, ncols)\n",
    "\n",
    "# converting array to dataframe\n",
    "all_downloads_df = pd.DataFrame(all_downloads)\n",
    "\n",
    "# # using lambda to create boolean mask that uses earlier function to check how many corrupted values are in each array\n",
    "# and hold true for any array that has any corrupted values ie. a scenario where at least one student has a corrupted download\n",
    "# using mean to find percentage of instances that true was the result\n",
    "answer = all_downloads_df.apply(lambda x: corruption_counter(x) == 0, axis = 1).mean()\n",
    "\n",
    "print(f'The probability of no installation issues among 450 students is {answer}')\n",
    "\n",
    "# alternate answer\n",
    "\n",
    "# nsims = nrows = 10000\n",
    "# ndownloads = ncolumns = 450\n",
    "\n",
    "# choice = [0,1]\n",
    "# corruption = np.random.choice(choice, nrows * ncolumns, p = [.996, .004]).reshape(nrows,ncolumns)\n",
    "\n",
    "# corruption_df = pd.DataFrame(corruption)\n",
    "\n",
    "# corruption_df.apply(lambda row: sum(row) == 0, axis = 1).mean()"
   ]
  },
  {
   "cell_type": "code",
   "execution_count": 403,
   "metadata": {},
   "outputs": [
    {
     "name": "stdout",
     "output_type": "stream",
     "text": [
      "The probability of not seeing a food truck in 3 days is 0.0278\n"
     ]
    }
   ],
   "source": [
    "# There's a 70% chance on any given day that there will be at least one food truck at Travis Park. \n",
    "# However, you haven't seen a food truck there in 3 days. How unlikely is this?\n",
    "\n",
    "# setting chance of truck appearing on any given day to 70%\n",
    "# setting number of simulations and array rows to 10k\n",
    "# setting number of days per simulation and # of array columns to 3\n",
    "truck_chance = .7\n",
    "ndays = ncols = 3\n",
    "n_simulated_weekends = nrows = 10**4\n",
    "\n",
    "#creating array that holds 10000 rows and 3 columns of random values from 0-1\n",
    "data = np.random.random((nrows, ncols))\n",
    "\n",
    "# creating array that holds true or false for each value from data depending on wether it is less than .7 or not\n",
    "# in other words, if the value is greater than .7, the truck did not show on the day the value corresponds to\n",
    "truck_shows = data < truck_chance\n",
    "\n",
    "# creating list of values for each simulated day\n",
    "# sums each row in the array, if all 3 values in the array are False, then the truck never showed in that simulation\n",
    "# and a value of true is held in the boolean mask for that simulation\n",
    "# using mean to find mean of how often the truck never showed in all of the simulations\n",
    "answer = (truck_shows.sum(axis=1) == 0).mean()\n",
    "\n",
    "print(f'The probability of not seeing a food truck in 3 days is {answer}')\n",
    "\n",
    "# alternate answer:\n",
    "\n",
    "# nsims = nrows = 10000\n",
    "# days = ncolumns = 3\n",
    "\n",
    "# choice = [0,1]\n",
    "\n",
    "# taco_show = np.random.choice(choice, nrows * ncolumns, p = [.3, .7]).reshape(nrows, ncolumns)\n",
    "\n",
    "# taco_show_df = pd.DataFrame(taco_show)\n",
    "                           \n",
    "# taco_show_df.apply(lambda row: sum(row) == 0, axis = 1).mean()"
   ]
  },
  {
   "cell_type": "code",
   "execution_count": 404,
   "metadata": {},
   "outputs": [
    {
     "name": "stdout",
     "output_type": "stream",
     "text": [
      "The probability of a food truck showing up at least once in a week is 0.9999\n"
     ]
    }
   ],
   "source": [
    "# How likely is it that a food truck will show up sometime this week?\n",
    "\n",
    "# setting chance of truck appearing on any given day to 70%\n",
    "# setting number of simulations and array rows to 10k\n",
    "# setting number of days per simulation and # of array columns to 7\n",
    "truck_chance = .7\n",
    "ndays = ncols = 7\n",
    "n_sims = nrows = 10**4\n",
    "\n",
    "#creating array that holds 10000 rows and 7 columns of random values from 0-1\n",
    "data = np.random.random((nrows, ncols))\n",
    "\n",
    "# creating array that holds true or false for each value from data depending on wether it is less than .7 or not\n",
    "# in other words, if the value is greater than .7, the truck did not show on the day the value corresponds to\n",
    "truck_shows = data < truck_chance\n",
    "\n",
    "# creating list of values for each simulated day\n",
    "# sums each row in the array, if at least one of the values is True, then the truck showed up within the 7 day timeframe\n",
    "# and a value of true is held in the boolean mask for that simulation\n",
    "# using mean to find mean of how often the truck showed at least once in all of the simulations\n",
    "answer = (truck_shows.sum(axis=1) >= 1).mean()\n",
    "\n",
    "print(f'The probability of a food truck showing up at least once in a week is {answer}')\n",
    "\n",
    "# alternate answer\n",
    "\n",
    "# nsims = nrows = 10000\n",
    "# ncolumns = ndays = 7\n",
    "\n",
    "# choice = [0,1]\n",
    "\n",
    "# taco_show = np.random.choice(choice, nrows * ncolumns, p = [.3 , .7]).reshape(nrows, ncolumns)\n",
    "\n",
    "# taco_show_df = pd.DataFrame(taco_show)\n",
    "\n",
    "# taco_show_df.apply(lambda row: sum(row) >= 1, axis = 1).mean()"
   ]
  },
  {
   "cell_type": "code",
   "execution_count": 405,
   "metadata": {},
   "outputs": [
    {
     "name": "stdout",
     "output_type": "stream",
     "text": [
      "The probability that among 23 people, at least 2 will share a birthday is 0.5005\n"
     ]
    },
    {
     "data": {
      "text/plain": [
       "'\\nAlternate answer:\\n\\n'"
      ]
     },
     "execution_count": 405,
     "metadata": {},
     "output_type": "execute_result"
    }
   ],
   "source": [
    "# If 23 people are in the same room, what are the odds that two of them share a birthday? \n",
    "\n",
    "# creating empty list\n",
    "birthdays = [] \n",
    "\n",
    "# filling empty list with 365 random birthday values\n",
    "for i in range(0,365):\n",
    "    birthdays.append('birthday# ' + str(i))\n",
    "\n",
    "# creating function that compares the length of an argument with the length of the set of the same argument\n",
    "# if all of the strings within the argument are unique then the set length will be the same as the regular length\n",
    "# if at least 2 of the values in the argument are identical, then the set length will be less because sets only\n",
    "# show unique values and thus at least one value will be removed from the argument\n",
    "# if the lengths match, False is returned, otherwise True is returned\n",
    "def bday_matcher(people_bdays):\n",
    "    if len(people_bdays) == len(set(people_bdays)):\n",
    "        return False\n",
    "    else:\n",
    "        return True\n",
    "\n",
    "# setting number of simulations and array rows to 10k\n",
    "# setting number of people per simulation and # of array columns to 23\n",
    "n_sims = nrows = 10000\n",
    "n_people = ncols = 23\n",
    "\n",
    "# creating an array with 10k rows and 23 columns, each representing a simulation of 23 people comparing birthdays\n",
    "all_bdays = np.random.choice(birthdays, n_sims * n_people).reshape(nrows, ncols)\n",
    "\n",
    "# converting array to dataframe\n",
    "all_bdays_df = pd.DataFrame(all_bdays)\n",
    "\n",
    "# using lambda to create a boolean mask that holds true in any simlution where true was returned\n",
    "# this works because if at least 2 birthdays match then the function will return true since the duplicate values will\n",
    "# cause the regular length and the set length of the argument to differ\n",
    "# using mean to the find how often at least 2 birthdays in a simulation match\n",
    "answer = all_bdays_df.apply(lambda x: bday_matcher(x) == True, axis = 1).mean()\n",
    "\n",
    "print(f'The probability that among 23 people, at least 2 will share a birthday is {answer}')\n",
    "\n",
    "\"\"\"\n",
    "Alternate answer:\n",
    "\n",
    "\"\"\""
   ]
  },
  {
   "cell_type": "code",
   "execution_count": 406,
   "metadata": {},
   "outputs": [
    {
     "name": "stdout",
     "output_type": "stream",
     "text": [
      "The probability that among 20 people, at least 2 will share a birthday is 0.4062\n"
     ]
    },
    {
     "data": {
      "text/plain": [
       "'\\nAlternate answer:\\n\\n'"
      ]
     },
     "execution_count": 406,
     "metadata": {},
     "output_type": "execute_result"
    }
   ],
   "source": [
    "# What if it's 20 people? \n",
    "\n",
    "# creating empty list\n",
    "birthdays = [] \n",
    "\n",
    "# filling empty list with 365 random birthday values\n",
    "for i in range(0,365):\n",
    "    birthdays.append('birthday# ' + str(i))\n",
    "\n",
    "# creating function that compares the length of an argument with the length of the set of the same argument\n",
    "# if all of the strings within the argument are unique then the set length will be the same as the regular length\n",
    "# if at least 2 of the values in the argument are identical, then the set length will be less because sets only\n",
    "# show unique values and thus at least one value will be removed from the argument\n",
    "# if the lengths match, False is returned, otherwise True is returned\n",
    "def bday_matcher(people_bdays):\n",
    "    if len(people_bdays) == len(set(people_bdays)):\n",
    "        return False\n",
    "    else:\n",
    "        return True\n",
    "\n",
    "# setting number of simulations and array rows to 10k\n",
    "# setting number of people per simulation and # of array columns to 20\n",
    "n_sims = nrows = 10000\n",
    "n_people = ncols = 20\n",
    "\n",
    "# creating an array with 10k rows and 20 columns, each representing a simulation of 20 people comparing birthdays\n",
    "all_bdays = np.random.choice(birthdays, n_sims * n_people).reshape(nrows, ncols)\n",
    "\n",
    "# converting array to dataframe\n",
    "all_bdays_df = pd.DataFrame(all_bdays)\n",
    "\n",
    "# using lambda to create a boolean mask that holds true in any simlution where true was returned\n",
    "# this works because if at least 2 birthdays match then the function will return true since the duplicate values will\n",
    "# cause the regular length and the set length of the argument to differ\n",
    "# using mean to the find how often at least 2 birthdays in a simulation match\n",
    "answer = all_bdays_df.apply(lambda x: bday_matcher(x) == True, axis = 1).mean()\n",
    "\n",
    "print(f'The probability that among 20 people, at least 2 will share a birthday is {answer}')\n",
    "\n",
    "\"\"\"\n",
    "Alternate answer:\n",
    "\n",
    "\"\"\""
   ]
  },
  {
   "cell_type": "code",
   "execution_count": 407,
   "metadata": {},
   "outputs": [
    {
     "name": "stdout",
     "output_type": "stream",
     "text": [
      "The probability that among 40 people, at least 2 will share a birthday is 0.8949\n"
     ]
    },
    {
     "data": {
      "text/plain": [
       "'\\nAlternate answer:\\n\\n'"
      ]
     },
     "execution_count": 407,
     "metadata": {},
     "output_type": "execute_result"
    }
   ],
   "source": [
    "# 40?\n",
    "\n",
    "# creating empty list\n",
    "birthdays = [] \n",
    "\n",
    "# filling empty list with 365 random birthday values\n",
    "for i in range(0,365):\n",
    "    birthdays.append('birthday# ' + str(i))\n",
    "\n",
    "# creating function that compares the length of an argument with the length of the set of the same argument\n",
    "# if all of the strings within the argument are unique then the set length will be the same as the regular length\n",
    "# if at least 2 of the values in the argument are identical, then the set length will be less because sets only\n",
    "# show unique values and thus at least one value will be removed from the argument\n",
    "# if the lengths match, False is returned, otherwise True is returned\n",
    "def bday_matcher(people_bdays):\n",
    "    if len(people_bdays) == len(set(people_bdays)):\n",
    "        return False\n",
    "    else:\n",
    "        return True\n",
    "\n",
    "# setting number of simulations and array rows to 10k\n",
    "# setting number of people per simulation and # of array columns to 40\n",
    "n_sims = nrows = 10000\n",
    "n_people = ncols = 40\n",
    "\n",
    "# creating an array with 10k rows and 40 columns, each representing a simulation of 40 people comparing birthdays\n",
    "all_bdays = np.random.choice(birthdays, n_sims * n_people).reshape(nrows, ncols)\n",
    "\n",
    "# converting array to dataframe\n",
    "all_bdays_df = pd.DataFrame(all_bdays)\n",
    "\n",
    "# using lambda to create a boolean mask that holds true in any simlution where true was returned\n",
    "# this works because if at least 2 birthdays match then the function will return true since the duplicate values will\n",
    "# cause the regular length and the set length of the argument to differ\n",
    "# using mean to the find how often at least 2 birthdays in a simulation match\n",
    "answer = all_bdays_df.apply(lambda x: bday_matcher(x) == True, axis = 1).mean()\n",
    "\n",
    "print(f'The probability that among 40 people, at least 2 will share a birthday is {answer}')\n",
    "\n",
    "\"\"\"\n",
    "Alternate answer:\n",
    "\n",
    "\"\"\""
   ]
  },
  {
   "cell_type": "code",
   "execution_count": null,
   "metadata": {},
   "outputs": [],
   "source": []
  },
  {
   "cell_type": "code",
   "execution_count": null,
   "metadata": {},
   "outputs": [],
   "source": []
  }
 ],
 "metadata": {
  "kernelspec": {
   "display_name": "Python 3",
   "language": "python",
   "name": "python3"
  },
  "language_info": {
   "codemirror_mode": {
    "name": "ipython",
    "version": 3
   },
   "file_extension": ".py",
   "mimetype": "text/x-python",
   "name": "python",
   "nbconvert_exporter": "python",
   "pygments_lexer": "ipython3",
   "version": "3.7.6"
  }
 },
 "nbformat": 4,
 "nbformat_minor": 4
}
